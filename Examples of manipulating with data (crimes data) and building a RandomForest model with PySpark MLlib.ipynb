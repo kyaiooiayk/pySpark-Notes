{
 "cells": [
  {
   "cell_type": "code",
   "execution_count": null,
   "metadata": {},
   "outputs": [],
   "source": [
    "# References\n",
    "# http://nbviewer.jupyter.org/github/ethen8181/machine-learning/blob/master/big_data/spark_crime.ipynb\n",
    "# https://github.com/ethen8181/machine-learning/blob/master/big_data/spark_installation.md"
   ]
  },
  {
   "cell_type": "markdown",
   "metadata": {},
   "source": [
    "# Import modules"
   ]
  },
  {
   "cell_type": "code",
   "execution_count": 1,
   "metadata": {},
   "outputs": [
    {
     "ename": "ModuleNotFoundError",
     "evalue": "No module named 'pyspark'",
     "output_type": "error",
     "traceback": [
      "\u001b[0;31m---------------------------------------------------------------------------\u001b[0m",
      "\u001b[0;31mModuleNotFoundError\u001b[0m                       Traceback (most recent call last)",
      "\u001b[0;32m<ipython-input-1-8caeea500c86>\u001b[0m in \u001b[0;36m<module>\u001b[0;34m\u001b[0m\n\u001b[1;32m      2\u001b[0m \u001b[0;32mimport\u001b[0m \u001b[0mpandas\u001b[0m \u001b[0;32mas\u001b[0m \u001b[0mpd\u001b[0m\u001b[0;34m\u001b[0m\u001b[0;34m\u001b[0m\u001b[0m\n\u001b[1;32m      3\u001b[0m \u001b[0;32mimport\u001b[0m \u001b[0mmatplotlib\u001b[0m\u001b[0;34m.\u001b[0m\u001b[0mpyplot\u001b[0m \u001b[0;32mas\u001b[0m \u001b[0mplt\u001b[0m\u001b[0;34m\u001b[0m\u001b[0;34m\u001b[0m\u001b[0m\n\u001b[0;32m----> 4\u001b[0;31m \u001b[0;32mimport\u001b[0m \u001b[0mpyspark\u001b[0m\u001b[0;34m.\u001b[0m\u001b[0msql\u001b[0m\u001b[0;34m.\u001b[0m\u001b[0mfunctions\u001b[0m \u001b[0;32mas\u001b[0m \u001b[0mF\u001b[0m\u001b[0;34m\u001b[0m\u001b[0;34m\u001b[0m\u001b[0m\n\u001b[0m\u001b[1;32m      5\u001b[0m \u001b[0;32mfrom\u001b[0m \u001b[0mpyspark\u001b[0m\u001b[0;34m.\u001b[0m\u001b[0mconf\u001b[0m \u001b[0;32mimport\u001b[0m \u001b[0mSparkConf\u001b[0m\u001b[0;34m\u001b[0m\u001b[0;34m\u001b[0m\u001b[0m\n\u001b[1;32m      6\u001b[0m \u001b[0;32mfrom\u001b[0m \u001b[0mpyspark\u001b[0m\u001b[0;34m.\u001b[0m\u001b[0msql\u001b[0m \u001b[0;32mimport\u001b[0m \u001b[0mSparkSession\u001b[0m\u001b[0;34m\u001b[0m\u001b[0;34m\u001b[0m\u001b[0m\n",
      "\u001b[0;31mModuleNotFoundError\u001b[0m: No module named 'pyspark'"
     ]
    }
   ],
   "source": [
    "import numpy as np\n",
    "import pandas as pd\n",
    "import matplotlib.pyplot as plt\n",
    "import pyspark.sql.functions as F\n",
    "from pyspark.conf import SparkConf\n",
    "from pyspark.sql import SparkSession\n",
    "\n",
    "# create the SparkSession class,\n",
    "# which is the entry point into all functionality in Spark\n",
    "# The .master part sets it to run on all cores on local, note\n",
    "# that we should leave out the .master part if we're actually\n",
    "# running the job on a cluster, or else we won't be actually\n",
    "# using the cluster\n",
    "spark = (SparkSession.\n",
    "         builder.\n",
    "         master('local[*]').\n",
    "         appName('crime').\n",
    "         config(conf = SparkConf()).\n",
    "         getOrCreate())\n",
    "\n",
    "# set the log level to ERROR to prevent \n",
    "# the terminal from showing too many information\n",
    "sc = spark.sparkContext\n",
    "sc.setLogLevel('ERROR')"
   ]
  },
  {
   "cell_type": "markdown",
   "metadata": {},
   "source": [
    "# Spark Exercise"
   ]
  },
  {
   "cell_type": "markdown",
   "metadata": {},
   "source": [
    "Note that the following notebook is not a tutorial on the basics of spark, it assumes you're already somewhat familiar with it or can pick it up quickly by checking documentations along the way. Please use the following [link](https://drive.google.com/file/d/0Bz1lG0yegjarWWRoYjI1SWtfUlU/view?usp=sharing) to download the dataset.\n",
    "\n",
    "## Question 1\n",
    "\n",
    "By using SparkSQL generate a bar chart of average crime events by month. Find an explanation of results"
   ]
  },
  {
   "cell_type": "code",
   "execution_count": 3,
   "metadata": {},
   "outputs": [
    {
     "data": {
      "text/plain": [
       "[Row(ID='10078659', Case Number='HY267429', Date='05/19/2015 11:57:00 PM', Block='010XX E 79TH ST', IUCR='143A', Primary Type='WEAPONS VIOLATION', Description='UNLAWFUL POSS OF HANDGUN', Location Description='STREET', Arrest='true', Domestic='false', Beat='0624', District='006', Ward='8', Community Area='44', FBI Code='15', X Coordinate='1184626', Y Coordinate='1852799', Year='2015', Updated On='05/26/2015 12:42:06 PM', Latitude='41.751242944', Longitude='-87.599004724', Location='(41.751242944, -87.599004724)')]"
      ]
     },
     "execution_count": 3,
     "metadata": {},
     "output_type": "execute_result"
    }
   ],
   "source": [
    "# have a peek at the data\n",
    "data_path = 'Crimes_-_2001_to_present.csv'\n",
    "df = spark.read.csv(data_path, sep = ',', header = True)\n",
    "df.take(1)"
   ]
  },
  {
   "cell_type": "code",
   "execution_count": 4,
   "metadata": {},
   "outputs": [
    {
     "data": {
      "text/plain": [
       "[Row(ID='10078659', Case Number='HY267429', Date='05/19/2015 11:57:00 PM', Block='010XX E 79TH ST', IUCR='143A', Primary Type='WEAPONS VIOLATION', Description='UNLAWFUL POSS OF HANDGUN', Location Description='STREET', Arrest='true', Domestic='false', Beat='0624', District='006', Ward='8', Community Area='44', FBI Code='15', X Coordinate='1184626', Y Coordinate='1852799', Year='2015', Updated On='05/26/2015 12:42:06 PM', Latitude='41.751242944', Longitude='-87.599004724', Location='(41.751242944, -87.599004724)', Day='05/19/2015', Month='05')]"
      ]
     },
     "execution_count": 4,
     "metadata": {},
     "output_type": "execute_result"
    }
   ],
   "source": [
    "# extract the month and year from the date column\n",
    "split_col = F.split(df['Date'], ' ')\n",
    "df = df.withColumn('Day', split_col.getItem(0))\n",
    "split_col = F.split(df['Day'], '/')\n",
    "df = df.withColumn('Month', split_col.getItem(0))\n",
    "df = df.withColumn('Year', split_col.getItem(2))\n",
    "df.take(1)"
   ]
  },
  {
   "cell_type": "code",
   "execution_count": 5,
   "metadata": {},
   "outputs": [
    {
     "data": {
      "text/html": [
       "<div>\n",
       "<style>\n",
       "    .dataframe thead tr:only-child th {\n",
       "        text-align: right;\n",
       "    }\n",
       "\n",
       "    .dataframe thead th {\n",
       "        text-align: left;\n",
       "    }\n",
       "\n",
       "    .dataframe tbody tr th {\n",
       "        vertical-align: top;\n",
       "    }\n",
       "</style>\n",
       "<table border=\"1\" class=\"dataframe\">\n",
       "  <thead>\n",
       "    <tr style=\"text-align: right;\">\n",
       "      <th></th>\n",
       "      <th>Month</th>\n",
       "      <th>Average</th>\n",
       "    </tr>\n",
       "  </thead>\n",
       "  <tbody>\n",
       "    <tr>\n",
       "      <th>0</th>\n",
       "      <td>01</td>\n",
       "      <td>30899.800000</td>\n",
       "    </tr>\n",
       "    <tr>\n",
       "      <th>1</th>\n",
       "      <td>02</td>\n",
       "      <td>27197.133333</td>\n",
       "    </tr>\n",
       "    <tr>\n",
       "      <th>2</th>\n",
       "      <td>03</td>\n",
       "      <td>32860.333333</td>\n",
       "    </tr>\n",
       "    <tr>\n",
       "      <th>3</th>\n",
       "      <td>04</td>\n",
       "      <td>32948.733333</td>\n",
       "    </tr>\n",
       "    <tr>\n",
       "      <th>4</th>\n",
       "      <td>05</td>\n",
       "      <td>34767.266667</td>\n",
       "    </tr>\n",
       "    <tr>\n",
       "      <th>5</th>\n",
       "      <td>06</td>\n",
       "      <td>36050.428571</td>\n",
       "    </tr>\n",
       "    <tr>\n",
       "      <th>6</th>\n",
       "      <td>07</td>\n",
       "      <td>37949.642857</td>\n",
       "    </tr>\n",
       "    <tr>\n",
       "      <th>7</th>\n",
       "      <td>08</td>\n",
       "      <td>37470.857143</td>\n",
       "    </tr>\n",
       "    <tr>\n",
       "      <th>8</th>\n",
       "      <td>09</td>\n",
       "      <td>35192.428571</td>\n",
       "    </tr>\n",
       "    <tr>\n",
       "      <th>9</th>\n",
       "      <td>10</td>\n",
       "      <td>35715.571429</td>\n",
       "    </tr>\n",
       "    <tr>\n",
       "      <th>10</th>\n",
       "      <td>11</td>\n",
       "      <td>32051.857143</td>\n",
       "    </tr>\n",
       "    <tr>\n",
       "      <th>11</th>\n",
       "      <td>12</td>\n",
       "      <td>29979.571429</td>\n",
       "    </tr>\n",
       "  </tbody>\n",
       "</table>\n",
       "</div>"
      ],
      "text/plain": [
       "   Month       Average\n",
       "0     01  30899.800000\n",
       "1     02  27197.133333\n",
       "2     03  32860.333333\n",
       "3     04  32948.733333\n",
       "4     05  34767.266667\n",
       "5     06  36050.428571\n",
       "6     07  37949.642857\n",
       "7     08  37470.857143\n",
       "8     09  35192.428571\n",
       "9     10  35715.571429\n",
       "10    11  32051.857143\n",
       "11    12  29979.571429"
      ]
     },
     "execution_count": 5,
     "metadata": {},
     "output_type": "execute_result"
    }
   ],
   "source": [
    "# register the DataFrame as a SQL temporary view, so \n",
    "# we can directly use SQL query to interact with spark DataFrame\n",
    "df.createOrReplaceTempView('crime')\n",
    "sql_query = (\"\"\"\n",
    "    SELECT Month, COUNT(*) / COUNT(DISTINCT Year) AS Average\n",
    "    FROM crime\n",
    "    GROUP BY Month\n",
    "    ORDER BY Month\n",
    "\"\"\")\n",
    "avg_month = spark.sql(sql_query).toPandas()\n",
    "avg_month.to_csv('avg_month.txt', index = False)\n",
    "avg_month"
   ]
  },
  {
   "cell_type": "code",
   "execution_count": 6,
   "metadata": {},
   "outputs": [
    {
     "data": {
      "image/png": "[encoded data removed]",
      "text/plain": [
       "<matplotlib.figure.Figure at 0x1083a9358>"
      ]
     },
     "metadata": {
      "image/png": {
       "height": 376,
       "width": 507
      }
     },
     "output_type": "display_data"
    }
   ],
   "source": [
    "plt.rcParams['figure.figsize'] = 8, 6\n",
    "plt.rcParams['font.size'] = 12\n",
    "\n",
    "\n",
    "plt.bar(avg_month['Month'].astype('float64'), avg_month['Average'])\n",
    "plt.title('Average Crime Count Throughout the Year')\n",
    "plt.xticks(range(1, 13))\n",
    "plt.show()"
   ]
  },
  {
   "cell_type": "markdown",
   "metadata": {},
   "source": [
    "Judging from the plot below, we can see that the average crime count tends to be higher during the summer. The reason behind this phenomenon might be:\n",
    "\n",
    "- Elevated temperature makes people more irritable, which leads to a rise in aggressive behavior and crime.\n",
    "- During the summer, people tend to leave their windows open more often to cool down or spend more time outside to enjoy outdoor activities. Both of them gives burglars more opportunity to break into people's home."
   ]
  },
  {
   "cell_type": "markdown",
   "metadata": {},
   "source": [
    "## Question 2\n",
    "\n",
    "- Find the top 10 blocks in crime events in the last 3 years\n",
    "- Find the two beats that are adjacent with the highest correlation in the number of crime events (this will require you looking at the map to determine if the correlated beats are adjacent to each other) over the last 5 years\n",
    "- Determine if the number of crime events is different between Mayors Daly and Emanuel at a granularity of your choice (not only at the city level). Find an explanation of results. Side information: Rahm Emanuel is the current mayor of Chicago, and Richard Daley was his predecessor (left the office in 2011)\n",
    "\n",
    "The following section also contains a small example of how to use the `mapPartition` function."
   ]
  },
  {
   "cell_type": "code",
   "execution_count": 7,
   "metadata": {},
   "outputs": [
    {
     "data": {
      "text/plain": [
       "[('1901', '52'), ('1902', '70')]"
      ]
     },
     "execution_count": 7,
     "metadata": {},
     "output_type": "execute_result"
    }
   ],
   "source": [
    "# suppose our task if to find the maximum temperature of the year 1901, 1902\n",
    "temp = sc.parallelize(['1901,52', '1901,45', '1902,50', '1902,70', '2000,100'])\n",
    "\n",
    "# since map works with a single record, for each input there has to be an output\n",
    "# hence we have to write a separate map and filter function to filter out the record\n",
    "# that does not belong to 1901, 1902\n",
    "(temp.\n",
    " map(lambda x: x.split(',')).\n",
    " filter(lambda x: x[0] in {'1901', '1902'}).\n",
    " reduceByKey(lambda x, y: max(x, y)).\n",
    " collect())"
   ]
  },
  {
   "cell_type": "code",
   "execution_count": 8,
   "metadata": {},
   "outputs": [
    {
     "data": {
      "text/plain": [
       "[('1901', '52'), ('1902', '70')]"
      ]
     },
     "execution_count": 8,
     "metadata": {},
     "output_type": "execute_result"
    }
   ],
   "source": [
    "def filter_year(iterable):\n",
    "    # loop through each data point in\n",
    "    # the chunk of data and do whatever\n",
    "    for line in iterable:\n",
    "        year, temperature = line.split(',')\n",
    "        if year in {'1901', '1902'}:\n",
    "            yield year, temperature\n",
    "\n",
    "# by using mapPartition we can use a function to work \n",
    "# with each partition (i.e. chunk of data), thus we \n",
    "# can combine the map and filter logic within each partition\n",
    "(temp.\n",
    " mapPartitions(filter_year).\n",
    " reduceByKey(lambda x, y: max(x, y)).\n",
    " collect())"
   ]
  },
  {
   "cell_type": "code",
   "execution_count": 9,
   "metadata": {},
   "outputs": [
    {
     "data": {
      "text/plain": [
       "2013"
      ]
     },
     "execution_count": 9,
     "metadata": {},
     "output_type": "execute_result"
    }
   ],
   "source": [
    "# extract the year from the date column\n",
    "data_path = 'Crimes_-_2001_to_present.csv'\n",
    "df = spark.read.csv(data_path, sep = ',', header = True)\n",
    "\n",
    "split_col = F.split(df['Date'], ' ')\n",
    "df = df.withColumn('Day', split_col.getItem(0))\n",
    "split_col = F.split(df['Day'], '/')\n",
    "df = df.withColumn('Month', split_col.getItem(0).cast('int'))\n",
    "df = df.withColumn('Year', split_col.getItem(2).cast('int'))\n",
    "\n",
    "# obtain the starting year for the notion of last three year\n",
    "unique_years = (df.\n",
    "                select(df['Year']).\n",
    "                distinct().\n",
    "                orderBy('Year').\n",
    "                rdd.map(lambda x: x.Year).\n",
    "                collect())\n",
    "n_years = 3\n",
    "year_threshold = unique_years[-n_years]\n",
    "year_threshold"
   ]
  },
  {
   "cell_type": "code",
   "execution_count": 10,
   "metadata": {},
   "outputs": [
    {
     "data": {
      "text/html": [
       "<div>\n",
       "<style>\n",
       "    .dataframe thead tr:only-child th {\n",
       "        text-align: right;\n",
       "    }\n",
       "\n",
       "    .dataframe thead th {\n",
       "        text-align: left;\n",
       "    }\n",
       "\n",
       "    .dataframe tbody tr th {\n",
       "        vertical-align: top;\n",
       "    }\n",
       "</style>\n",
       "<table border=\"1\" class=\"dataframe\">\n",
       "  <thead>\n",
       "    <tr style=\"text-align: right;\">\n",
       "      <th></th>\n",
       "      <th>Block</th>\n",
       "      <th>count</th>\n",
       "    </tr>\n",
       "  </thead>\n",
       "  <tbody>\n",
       "    <tr>\n",
       "      <th>0</th>\n",
       "      <td>001XX N STATE ST</td>\n",
       "      <td>1745</td>\n",
       "    </tr>\n",
       "    <tr>\n",
       "      <th>1</th>\n",
       "      <td>0000X W TERMINAL ST</td>\n",
       "      <td>1340</td>\n",
       "    </tr>\n",
       "    <tr>\n",
       "      <th>2</th>\n",
       "      <td>008XX N MICHIGAN AVE</td>\n",
       "      <td>1083</td>\n",
       "    </tr>\n",
       "    <tr>\n",
       "      <th>3</th>\n",
       "      <td>076XX S CICERO AVE</td>\n",
       "      <td>1037</td>\n",
       "    </tr>\n",
       "    <tr>\n",
       "      <th>4</th>\n",
       "      <td>0000X N STATE ST</td>\n",
       "      <td>794</td>\n",
       "    </tr>\n",
       "    <tr>\n",
       "      <th>5</th>\n",
       "      <td>051XX W MADISON ST</td>\n",
       "      <td>661</td>\n",
       "    </tr>\n",
       "    <tr>\n",
       "      <th>6</th>\n",
       "      <td>064XX S DR MARTIN LUTHER KING JR DR</td>\n",
       "      <td>628</td>\n",
       "    </tr>\n",
       "    <tr>\n",
       "      <th>7</th>\n",
       "      <td>083XX S STEWART AVE</td>\n",
       "      <td>604</td>\n",
       "    </tr>\n",
       "    <tr>\n",
       "      <th>8</th>\n",
       "      <td>046XX W NORTH AVE</td>\n",
       "      <td>571</td>\n",
       "    </tr>\n",
       "    <tr>\n",
       "      <th>9</th>\n",
       "      <td>009XX W BELMONT AVE</td>\n",
       "      <td>550</td>\n",
       "    </tr>\n",
       "  </tbody>\n",
       "</table>\n",
       "</div>"
      ],
      "text/plain": [
       "                                 Block  count\n",
       "0                     001XX N STATE ST   1745\n",
       "1                  0000X W TERMINAL ST   1340\n",
       "2                 008XX N MICHIGAN AVE   1083\n",
       "3                   076XX S CICERO AVE   1037\n",
       "4                     0000X N STATE ST    794\n",
       "5                   051XX W MADISON ST    661\n",
       "6  064XX S DR MARTIN LUTHER KING JR DR    628\n",
       "7                  083XX S STEWART AVE    604\n",
       "8                    046XX W NORTH AVE    571\n",
       "9                  009XX W BELMONT AVE    550"
      ]
     },
     "execution_count": 10,
     "metadata": {},
     "output_type": "execute_result"
    }
   ],
   "source": [
    "# top 10 blocks in terms of crime events\n",
    "n_top = 10\n",
    "crime_per_block = (df.\n",
    "                   filter(df['Year'] >= year_threshold).\n",
    "                   groupBy('Block').\n",
    "                   count().\n",
    "                   orderBy('count', ascending = False).\n",
    "                   limit(n_top).\n",
    "                   toPandas())\n",
    "crime_per_block"
   ]
  },
  {
   "cell_type": "markdown",
   "metadata": {},
   "source": [
    "For part 1, the top 10 blocks in terms of number of crime events are places either in downtown Chicago or the South part of Chicago. This is probably due to the fact that those areas are densely populated, hence increases the chance of crime occurence.\n",
    "\n",
    "---\n",
    "\n",
    "For the problem of finding the two beats that are adjacent with the highest correlation in the number of crime events, I decided to use the [rdd `corr`](https://spark.apache.org/docs/2.1.0/mllib-statistics.html#correlations) function from the mllib package to perform the operation. Even thought there's a [DataFrame `corr`](http://spark.apache.org/docs/2.1.0/api/python/pyspark.sql.html#pyspark.sql.DataFrame.corr) function, I couldn't find an easy way to utilize that API."
   ]
  },
  {
   "cell_type": "code",
   "execution_count": 11,
   "metadata": {},
   "outputs": [
    {
     "data": {
      "text/plain": [
       "[(('0111', 2011), 1040),\n",
       " (('0111', 2012), 1445),\n",
       " (('0111', 2013), 1644),\n",
       " (('0111', 2014), 1632),\n",
       " (('0111', 2015), 530),\n",
       " (('0112', 2011), 736),\n",
       " (('0112', 2012), 1471),\n",
       " (('0112', 2013), 1499),\n",
       " (('0112', 2014), 1343),\n",
       " (('0112', 2015), 449)]"
      ]
     },
     "execution_count": 11,
     "metadata": {},
     "output_type": "execute_result"
    }
   ],
   "source": [
    "# compare correlation across years\n",
    "n_years = 5\n",
    "year_threshold = unique_years[-n_years]\n",
    "\n",
    "def filter_year(iterable):\n",
    "    for beat, year in iterable:\n",
    "        if year >= year_threshold:\n",
    "            yield (beat, year), 1\n",
    "\n",
    "# the sort by key is just to make the output\n",
    "# cleaner, we don't actually need it\n",
    "crime_per_group = (df.\n",
    "                   select(df['Beat'], df['Year']).\n",
    "                   rdd.mapPartitions(filter_year).\n",
    "                   reduceByKey(lambda x, y: x + y).\n",
    "                   sortByKey())\n",
    "crime_per_group.take(10)"
   ]
  },
  {
   "cell_type": "code",
   "execution_count": 12,
   "metadata": {},
   "outputs": [
    {
     "data": {
      "text/plain": [
       "[('1613', '2011,517;2012,505;2013,431;2014,470;2015,166;'),\n",
       " ('1422', '2011,1535;2012,1465;2013,1249;2014,945;2015,302;'),\n",
       " ('1411', '2011,958;2012,936;2013,772;2014,721;2015,214;')]"
      ]
     },
     "execution_count": 12,
     "metadata": {},
     "output_type": "execute_result"
    }
   ],
   "source": [
    "def beat2key(x):\n",
    "    (beat, year), count = x\n",
    "    # choose a random delimiter to separate the\n",
    "    # two values and the next value that will be\n",
    "    # concatenated to it\n",
    "    value = str(year) + ',' + str(count) + ';'\n",
    "    return beat, value\n",
    "\n",
    "\n",
    "# combine the count for each beat together\n",
    "# into one string value\n",
    "crime_per_beat = (crime_per_group.\n",
    "                  map(beat2key).\n",
    "                  reduceByKey(lambda x, y: x + y))\n",
    "crime_per_beat.take(3)"
   ]
  },
  {
   "cell_type": "code",
   "execution_count": 13,
   "metadata": {},
   "outputs": [
    {
     "data": {
      "text/plain": [
       "[('2011',\n",
       "  '1613,517;1422,1535;1411,958;0934,1340;1021,1518;0234,1040;0232,1022;2431,684;0114,18;1522,2559;1531,1798;1922,634;0431,1595;1614,680;0411,1534;0612,2272;2023,645;2011,1027;1733,1132;0631,1942;1831,1630;1222,786;2515,1609;1914,14;0533,1442;0123,1266;0225,8;0935,1221;1933,1050;0222,925;1713,824;2422,1487;1112,2095;0333,1125;2433,1195;1233,851;1813,542;0614,1346;2535,1709;2212,1429;1223,1057;1913,793;0922,948;0824,1760;2412,1232;1113,1599;0911,1335;1915,16;0311,882;1022,1366;1224,917;0914,1571;2211,933;1634,1096;0433,1163;0531,1268;2031,554;1623,1055;2512,1681;1013,1268;0322,1504;0122,1949;1232,409;2012,552;0715,1121;1653,286;1214,5;2522,1219;0622,889;1711,850;1421,1114;1722,1178;1732,1258;0213,737;2513,678;0422,1386;0613,1548;1023,895;0725,1677;2525,922;1431,1011;0511,2594;1433,1365;0512,2071;0214,722;1131,913;1132,1714;0231,310;0814,881;1213,859;0132,2183;0221,505;1133,1689;0825,2499;1612,494;0313,1502;0925,652;1125,473;1414,784;1811,915;1215,2;1211,1470;2013,623;1225,6;0811,1158;1014,1268;1934,15;1121,1797;0734,1115;0815,1546;1231,795;1921,15;0623,1730;1011,2029;1423,1067;2234,1587;1911,523;1123,1236;0835,1669;0722,1059;1834,2213;0424,1814;2532,1783;1513,1175;0423,2834;0735,1753;1115,1344;2523,1113;0931,1051;1731,1303;2524,1095;0312,1840;2222,1371;0235,8;1511,1484;0334,1281;1832,1335;1434,1204;1723,1611;1114,998;0223,897;1512,1083;1822,870;2534,1762;1655,101;1412,1012;1935,13;0733,1398;0713,2036;2022,572;1821,1499;0314,1056;0813,1767;0133,587;1134,1529;0212,446;0834,1676;0421,3004;0913,1310;0321,2162;1532,1873;1432,1146;2024,752;0632,1835;0532,1319;1924,1270;0633,1000;1633,1316;1651,430;1632,857;2531,1480;0833,1818;2514,1375;0711,1453;0524,1600;1221,9;0624,2520;1712,1281;1652,181;1523,1794;1654,383;0233,1426;0921,656;1925,24;1124,1114;0111,1040;0723,1536;1135,1716;0611,1856;0732,1152;0121,12;1012,1007;0414,2383;1833,1798;0523,1881;2424,1068;0113,850;0923,1040;2423,810;1024,1238;2223,1470;0522,1987;1424,1377;0821,1203;1611,616;2233,1430;1923,1358;1235,11;1413,876;0324,1859;0513,1772;0224,722;2533,2286;1624,1022;2411,1141;0731,1209;1932,1157;2032,548;1631,749;1031,1449;0124,717;0924,1405;0634,1452;0832,2179;0432,1523;1912,694;0215,14;1122,1792;2521,1526;0131,1331;0323,1758;0932,1204;0812,847;1622,1238;0112,736;1812,959;1212,1250;2432,1066;2221,1104;2033,486;0831,2136;0434,828;0912,1787;1621,342;0714,1266;0621,2243;1034,1078;1033,1038;0211,919;1533,2309;0412,1709;0915,1281;1724,1007;2511,1025;0332,1747;0822,1599;1234,12;1111,1545;0726,1429;0933,990;1823,664;2232,1422;0413,1618;0331,1636;1931,937;0712,1904;1814,861;2413,1514;0823,2574;2213,911;1032,786;1824,1234;1524,1412;0724,1209;')]"
      ]
     },
     "execution_count": 13,
     "metadata": {},
     "output_type": "execute_result"
    }
   ],
   "source": [
    "def get_count_per_year(iterable):\n",
    "    for beat, value in iterable:\n",
    "        # filter out the last ';'\n",
    "        year_and_count = value.split(';')[:-1]\n",
    "        if len(year_and_count) == n_years:\n",
    "            year_and_count = [tuple(e.split(',')) for e in year_and_count]\n",
    "            for year, count in year_and_count:\n",
    "                value = beat + ',' + count + ';'\n",
    "                yield year, value\n",
    "\n",
    "# convert the single string value into numeric value and\n",
    "# filter out any beat that does not have all the values,\n",
    "# i.e. does not have records for all the year;\n",
    "# also convert year as key since the correlation function\n",
    "# assumes that each column is a record as oppose to each row\n",
    "count_per_year = (crime_per_beat.\n",
    "                  mapPartitions(get_count_per_year).\n",
    "                  reduceByKey(lambda x, y: x + y))\n",
    "count_per_year.take(1)"
   ]
  },
  {
   "cell_type": "code",
   "execution_count": 14,
   "metadata": {},
   "outputs": [
    {
     "data": {
      "text/plain": [
       "274"
      ]
     },
     "execution_count": 14,
     "metadata": {},
     "output_type": "execute_result"
    }
   ],
   "source": [
    "def get_unique_beats(count_per_year):\n",
    "    unique_beats = []\n",
    "    _, value = count_per_year\n",
    "    beat_and_count = value.split(';')[:-1]\n",
    "    beat_and_count = [tuple(e.split(',')) for e in beat_and_count]\n",
    "    beat_and_count = sorted(beat_and_count)\n",
    "    for beat, _ in beat_and_count:\n",
    "        unique_beats.append(beat)\n",
    "    \n",
    "    return unique_beats\n",
    "\n",
    "\n",
    "# load all the distinct beat into memory,\n",
    "# feasible since there's only around 300 of them\n",
    "unique_beats = get_unique_beats(count_per_year.first())\n",
    "len(unique_beats)"
   ]
  },
  {
   "cell_type": "code",
   "execution_count": 15,
   "metadata": {},
   "outputs": [
    {
     "data": {
      "text/plain": [
       "array([[ 1.        ,  0.95677052,  0.897641  , ...,  0.7133157 ,\n",
       "         0.71141596,  0.54571851],\n",
       "       [ 0.95677052,  1.        ,  0.87074554, ...,  0.64021917,\n",
       "         0.6539807 ,  0.48406046],\n",
       "       [ 0.897641  ,  0.87074554,  1.        , ...,  0.93041864,\n",
       "         0.94033636,  0.84316419],\n",
       "       ..., \n",
       "       [ 0.7133157 ,  0.64021917,  0.93041864, ...,  1.        ,\n",
       "         0.99396707,  0.97564078],\n",
       "       [ 0.71141596,  0.6539807 ,  0.94033636, ...,  0.99396707,\n",
       "         1.        ,  0.97296516],\n",
       "       [ 0.54571851,  0.48406046,  0.84316419, ...,  0.97564078,\n",
       "         0.97296516,  1.        ]])"
      ]
     },
     "execution_count": 15,
     "metadata": {},
     "output_type": "execute_result"
    }
   ],
   "source": [
    "from pyspark.mllib.stat import Statistics\n",
    "\n",
    "\n",
    "def get_beat_count(x):\n",
    "    _, value = x\n",
    "    beat_and_count = value.split(';')[:-1]\n",
    "    beat_and_count = [tuple(e.split(',')) for e in beat_and_count]\n",
    "    beat_and_count = sorted(beat_and_count)\n",
    "    count = [int(count) for _, count in beat_and_count]\n",
    "    return count      \n",
    "\n",
    "\n",
    "raw_count = count_per_year.map(get_beat_count)\n",
    "corr_m = Statistics.corr(raw_count, method = 'pearson')\n",
    "corr_m.flags['WRITEABLE'] = True\n",
    "corr_m"
   ]
  },
  {
   "cell_type": "code",
   "execution_count": 16,
   "metadata": {
    "collapsed": true
   },
   "outputs": [],
   "source": [
    "def most_similar_pair(pairwise, topn = 3, ascending = False):\n",
    "    \"\"\"\n",
    "    Obtain the topn most/least similar pair of the input\n",
    "    similarity matrix.\n",
    "\n",
    "    Paramters\n",
    "    ---------\n",
    "    pairwise : 2d ndarray\n",
    "        Pairwise similarity matrix.\n",
    "\n",
    "    topn : int, default 3\n",
    "        Top N most similar/dissimilar pair's N.\n",
    "\n",
    "    ascending : bool, default False\n",
    "        Whether to find the most similar of dissimilar pair.\n",
    "\n",
    "    Returns\n",
    "    -------\n",
    "    rows, cols : 1d ndarray\n",
    "        Indices of the pair.\n",
    "    \"\"\"\n",
    "    pairwise = pairwise.copy()\n",
    "    if not ascending:\n",
    "        # the item is always most similar to itself\n",
    "        # exclude that from the calculation if\n",
    "        # we're computing the most similiar\n",
    "        np.fill_diagonal(pairwise, 0.)\n",
    "\n",
    "    # flatten the 2d correlation matrix and\n",
    "    # sort it by decreasing order\n",
    "    corr_result = np.ravel(pairwise)\n",
    "    indices = np.argsort(corr_result)\n",
    "    if not ascending:\n",
    "        indices = indices[::-1]\n",
    "\n",
    "    # we then grab the top n elements;\n",
    "    # since correlation matrix is symmetric,\n",
    "    # we take the largest n * 2 and with a stride of 2\n",
    "    largest_indices = indices[:(topn * 2):2]\n",
    "\n",
    "    # obtain the corresponding index in the\n",
    "    # original correlation matrix (e.g. element (3, 2)\n",
    "    # contains the largest value thus it comes first)\n",
    "    rows, cols = np.unravel_index(largest_indices, pairwise.shape)\n",
    "    return rows, cols"
   ]
  },
  {
   "cell_type": "code",
   "execution_count": 17,
   "metadata": {},
   "outputs": [
    {
     "data": {
      "text/plain": [
       "(array([ 41, 242, 162, 264,  80,  44, 122, 208,  51, 247, 252, 187, 159,\n",
       "        180, 169, 169, 204, 175,  37,  42,  45, 253,  41,  98, 199,  89,\n",
       "        226,  57, 212, 271, 164,  18,  60,  70, 173, 254,  40,  98, 254,\n",
       "        158,  65, 264,  42, 242, 262,  33, 133,  60, 205,  70,  99,  53,\n",
       "        190, 271,  87,  37, 207, 257,  53, 202, 240,  22, 260,  71,  36,\n",
       "        201,  35, 176, 249, 164,  44,  55,  41,  88, 273,  32, 254,  51,\n",
       "        267, 125,  56,  37, 128, 258, 264, 229, 164, 244,  88, 235, 232,\n",
       "        171, 256, 190,  27,  43, 207,  35, 139, 197]),\n",
       " array([182, 233,  86, 216, 142,  49,  35,  29,  30,  72, 176, 182, 210,\n",
       "        128, 215,  36, 201, 246, 105, 167,  88,  73, 187,  48, 233, 216,\n",
       "        231, 170,  52, 252, 234, 238,  92,  92, 205, 197,  47, 249, 118,\n",
       "         54,  68,  89, 262, 199, 202, 122, 134,  93,  94,  60, 189,  76,\n",
       "        179, 182,  27, 128, 124,  66, 125, 200,  87, 216, 256, 142, 215,\n",
       "        239,  33, 271,  48,  71,  32,  36, 271,  30, 204, 255,  63,  88,\n",
       "        170, 215, 180, 123,  56,  80,  22, 264,  51,  26, 164, 214,  22,\n",
       "         39, 253,  33,  53, 111, 250,  98,   6, 118]))"
      ]
     },
     "execution_count": 17,
     "metadata": {},
     "output_type": "execute_result"
    }
   ],
   "source": [
    "n_largest = 100\n",
    "rows, cols = most_similar_pair(corr_m, topn = n_largest)\n",
    "rows, cols"
   ]
  },
  {
   "cell_type": "markdown",
   "metadata": {},
   "source": [
    "After computing the year-level crime number correlation between all the pairwise beats combination and outputting the top 100 combination, the two adjacent beats that have the highest correlation is listed below (this is done by manually inspecting the top 100 pairs)."
   ]
  },
  {
   "cell_type": "code",
   "execution_count": 18,
   "metadata": {},
   "outputs": [
    {
     "data": {
      "text/html": [
       "<div>\n",
       "<style>\n",
       "    .dataframe thead tr:only-child th {\n",
       "        text-align: right;\n",
       "    }\n",
       "\n",
       "    .dataframe thead th {\n",
       "        text-align: left;\n",
       "    }\n",
       "\n",
       "    .dataframe tbody tr th {\n",
       "        vertical-align: top;\n",
       "    }\n",
       "</style>\n",
       "<table border=\"1\" class=\"dataframe\">\n",
       "  <thead>\n",
       "    <tr style=\"text-align: right;\">\n",
       "      <th></th>\n",
       "      <th>beat1</th>\n",
       "      <th>beat2</th>\n",
       "      <th>corr</th>\n",
       "    </tr>\n",
       "  </thead>\n",
       "  <tbody>\n",
       "    <tr>\n",
       "      <th>46</th>\n",
       "      <td>1121</td>\n",
       "      <td>1122</td>\n",
       "      <td>0.999749</td>\n",
       "    </tr>\n",
       "  </tbody>\n",
       "</table>\n",
       "</div>"
      ],
      "text/plain": [
       "   beat1 beat2      corr\n",
       "46  1121  1122  0.999749"
      ]
     },
     "execution_count": 18,
     "metadata": {},
     "output_type": "execute_result"
    }
   ],
   "source": [
    "results = []\n",
    "for i, j in zip(rows, cols):\n",
    "    result = [unique_beats[i], unique_beats[j], corr_m[i, j]]\n",
    "    results.append(result)\n",
    "\n",
    "df_corr = pd.DataFrame(results, columns = ['beat1', 'beat2', 'corr'])\n",
    "df_corr[ (df_corr['beat1'] == '1121') & (df_corr['beat2'] == '1122') ]"
   ]
  },
  {
   "cell_type": "markdown",
   "metadata": {},
   "source": [
    "For part 3, determining if the number of crime events is different between Mayors Daly and Emanuel, we will compute the monthly crime occurences per beat and perform a pair t-test to evaluate whether the difference is significant or not."
   ]
  },
  {
   "cell_type": "code",
   "execution_count": 19,
   "metadata": {},
   "outputs": [
    {
     "name": "stdout",
     "output_type": "stream",
     "text": [
      "+----+-----+------------+----------+-----+\n",
      "|Beat|Month|EmanuelCount|DaleyCount| Diff|\n",
      "+----+-----+------------+----------+-----+\n",
      "|0332|    4|         465|      1672|-1207|\n",
      "|0412|    4|         478|      1789|-1311|\n",
      "|0413|    8|         434|      1877|-1443|\n",
      "|0434|    7|         253|       859| -606|\n",
      "|0624|    6|         540|      2863|-2323|\n",
      "|1113|    1|         503|      1518|-1015|\n",
      "|1331|    8|          91|      1358|-1267|\n",
      "|1532|    8|         472|      2437|-1965|\n",
      "|1613|    9|         138|       611| -473|\n",
      "|1655|    5|          33|        16|   17|\n",
      "|1814|    7|         326|      1186| -860|\n",
      "|1834|    8|         582|      2654|-2072|\n",
      "|2031|    3|         144|       697| -553|\n",
      "|2211|    7|         240|      1255|-1015|\n",
      "|2423|   11|         144|      1005| -861|\n",
      "|2522|    4|         327|      1346|-1019|\n",
      "|2534|    8|         424|      2220|-1796|\n",
      "|0123|    2|         339|      1154| -815|\n",
      "|0212|    7|         312|      1355|-1043|\n",
      "|0214|    7|         222|       934| -712|\n",
      "+----+-----+------------+----------+-----+\n",
      "only showing top 20 rows\n",
      "\n"
     ]
    }
   ],
   "source": [
    "df = spark.read.csv(data_path, sep = ',', header = True)\n",
    "split_col = F.split(df['Date'], ' ')\n",
    "df = df.withColumn('Day', split_col.getItem(0))\n",
    "split_col = F.split(df['Day'], '/')\n",
    "df = df.withColumn('Month', split_col.getItem(0).cast('int'))\n",
    "df = df.withColumn('Year', split_col.getItem(2).cast('int'))\n",
    "\n",
    "emanuel = (df.\n",
    "           filter(df['Year'] > 2011).\n",
    "           groupBy('Beat', 'Month').\n",
    "           count().\n",
    "           withColumnRenamed('count', 'EmanuelCount'))\n",
    "\n",
    "daley = (df.\n",
    "         filter(df['Year'] <= 2011).\n",
    "         groupBy('Beat', 'Month').\n",
    "         count().\n",
    "         withColumnRenamed('count', 'DaleyCount'))\n",
    "\n",
    "joined = (emanuel.\n",
    "          join(daley, on = ['Beat', 'Month']).\n",
    "          withColumn('Diff', (F.col('EmanuelCount') - F.col('DaleyCount')).alias('double')))\n",
    "joined.show()"
   ]
  },
  {
   "cell_type": "code",
   "execution_count": 20,
   "metadata": {},
   "outputs": [
    {
     "data": {
      "text/plain": [
       "[(-1061.9955960070463, 512.3930046068413, 3406)]"
      ]
     },
     "execution_count": 20,
     "metadata": {},
     "output_type": "execute_result"
    }
   ],
   "source": [
    "# compute the pair t-test\n",
    "test_info = (joined.\n",
    "             select(F.mean(F.col('Diff')).alias('Mean'),\n",
    "                    F.stddev(F.col('Diff')).alias('Std'),\n",
    "                    F.count(F.col('Diff')).alias('Count')).\n",
    "             rdd.map(lambda x: (x.Mean, x.Std, x.Count)).\n",
    "             collect())\n",
    "test_info"
   ]
  },
  {
   "cell_type": "code",
   "execution_count": 21,
   "metadata": {},
   "outputs": [
    {
     "data": {
      "text/plain": [
       "-120.96001879348958"
      ]
     },
     "execution_count": 21,
     "metadata": {},
     "output_type": "execute_result"
    }
   ],
   "source": [
    "# the t value is extremely large,\n",
    "# indicating that there is a difference in crime\n",
    "mean, std, count = test_info[0]\n",
    "standard_error = std / np.sqrt(count)\n",
    "tvalue = mean / standard_error\n",
    "tvalue"
   ]
  },
  {
   "cell_type": "markdown",
   "metadata": {},
   "source": [
    "We observe a large pair t-statistic when comparing monthly crime numbers between mayor Daley and Emanuel. This indicates the data provides strong evidence against the null hypothesis in which there is no difference in the number of crimes between the two mayors. And based on the way the number is calculated, a large negative number means there's significantly less number of crimes when Rahm Emanuel (the current mayor of Chicago) is mayor."
   ]
  },
  {
   "cell_type": "markdown",
   "metadata": {},
   "source": [
    "## Question 3\n",
    "\n",
    "Predict the number of crime events in the next week at the beat level.\n",
    "\n",
    "- Framed the problem as a supervised machine learning problem, thus lagged features were created. i.e. we use week 1, 2, 3's number to predict the number for week 4. We could have framed it as a time series problem, but here we're simply using it as a chance to familarize ourselves with Spark ML's API\n",
    "- Trained a RandomForest model for every beat level. This decision is due to the fact that if we were to only train one model, it would require us to one-hot encode around 300 different beat values, which is often times not ideal as a categorical variable with too many distinct levels often leads to overfitting\n",
    "- For the RandomForest model, 3-fold cross validation and a grid search on the `maxDepth` parameter was performed\n",
    "\n",
    "---\n",
    "\n",
    "A quick intro into the SQL window function:\n",
    "\n",
    "Window functions operate on a set of rows and return a single value for each row from the underlying query. When we use a window function in a query, we define the window using the `OVER()` clause, which has the folloiwing capabilities:\n",
    "\n",
    "- Defines window partitions to form groups of rows. (PARTITION BY clause)\n",
    "- Orders rows within a partition. (ORDER BY clause)\n",
    "\n",
    "e.g.\n",
    "\n",
    "The following query uses the `AVG()` window function with the `PARTITION BY` clause to determine the average car sales for each dealer in Q1:\n",
    "\n",
    "```sql\n",
    "SELECT \n",
    "    emp_name, dealer_id, sales, \n",
    "    AVG(sales) OVER (PARTITION BY dealer_id) AS avgsales \n",
    "FROM \n",
    "    q1_sales;\n",
    "```\n",
    "\n",
    "<img src=\"img/window_query.png\" width=\"40%\" height=\"40%\">\n",
    "\n",
    "For more information, including different types of window function the following link gives a very nice overview. [Drill Documentation: SQL Window Functions Introduction](https://drill.apache.org/docs/sql-window-functions-introduction/)"
   ]
  },
  {
   "cell_type": "code",
   "execution_count": 22,
   "metadata": {},
   "outputs": [
    {
     "name": "stdout",
     "output_type": "stream",
     "text": [
      "+---+---+\n",
      "| id|num|\n",
      "+---+---+\n",
      "|  4|9.0|\n",
      "|  3|7.0|\n",
      "|  2|3.0|\n",
      "|  1|5.0|\n",
      "+---+---+\n",
      "\n",
      "+---+---+-------+\n",
      "| id|num|new_col|\n",
      "+---+---+-------+\n",
      "|  1|5.0|    3.0|\n",
      "|  2|3.0|    7.0|\n",
      "|  3|7.0|    9.0|\n",
      "+---+---+-------+\n",
      "\n"
     ]
    }
   ],
   "source": [
    "from pyspark.sql.window import Window\n",
    "\n",
    "# Reference\n",
    "# ---------\n",
    "# https://stackoverflow.com/questions/34295642/spark-add-new-column-to-dataframe-with-value-from-previous-row\n",
    "d = sc.parallelize([(4, 9.0), (3, 7.0), (2, 3.0), (1, 5.0)]).toDF(['id', 'num'])\n",
    "d.show()\n",
    "\n",
    "# here we define a window to create a lagged feature,\n",
    "# so every row gets shifted up by 1 (determined by the\n",
    "# count parameter of the lag function); remember to drop\n",
    "# the na value since there's no record before id1\n",
    "w = Window().partitionBy().orderBy('id')\n",
    "d = (d.\n",
    "     withColumn('new_col', F.lag(F.col('num'), count = -1).over(w)).\n",
    "     na.drop())\n",
    "d.show()"
   ]
  },
  {
   "cell_type": "code",
   "execution_count": 23,
   "metadata": {},
   "outputs": [
    {
     "data": {
      "text/plain": [
       "[Row(ID='10078659', Case Number='HY267429', Date='05/19/2015 11:57:00 PM', Block='010XX E 79TH ST', IUCR='143A', Primary Type='WEAPONS VIOLATION', Description='UNLAWFUL POSS OF HANDGUN', Location Description='STREET', Arrest='true', Domestic='false', Beat='0624', District='006', Ward='8', Community Area='44', FBI Code='15', X Coordinate='1184626', Y Coordinate='1852799', Year='2015', Updated On='05/26/2015 12:42:06 PM', Latitude='41.751242944', Longitude='-87.599004724', Location='(41.751242944, -87.599004724)', DateTime=datetime.datetime(2015, 5, 19, 0, 0), WeekOfYear='21', Time='201521')]"
      ]
     },
     "execution_count": 23,
     "metadata": {},
     "output_type": "execute_result"
    }
   ],
   "source": [
    "from pyspark.sql.window import Window\n",
    "from pyspark.sql.types import StringType\n",
    "\n",
    "\n",
    "data_path = 'Crimes_-_2001_to_present.csv'\n",
    "df = spark.read.csv(data_path, sep = ',', header = True)\n",
    "\n",
    "\n",
    "def date2weeknumber(date):\n",
    "    \"\"\"\n",
    "    append a 0 in front of single digit week number,\n",
    "    this is used when sorting the week number so that\n",
    "    week 02 will still come before week 10\n",
    "    \"\"\"\n",
    "    if len(date) == 2:\n",
    "        return date\n",
    "    else:\n",
    "        return '0' + date\n",
    "\n",
    "udf_date2weeknumber = F.udf(date2weeknumber, StringType())\n",
    "\n",
    "# convert the Date column to spark timestamp format to retrieve the time,\n",
    "# date formats follow the formats at java.text.SimpleDateFormat\n",
    "#\n",
    "# Reference\n",
    "# ---------\n",
    "# http://docs.oracle.com/javase/6/docs/api/java/text/SimpleDateFormat.html\n",
    "# https://stackoverflow.com/questions/25006607/how-to-get-day-of-week-in-sparksql\n",
    "timestamp_format = 'MM/dd/yyyy'\n",
    "crime = (df.\n",
    "         withColumn('DateTime', \n",
    "                    F.unix_timestamp(F.col('Date'), timestamp_format).cast('timestamp')).\n",
    "         withColumn('WeekOfYear', F.weekofyear(F.col('DateTime')).cast('string')).\n",
    "         withColumn('WeekOfYear', udf_date2weeknumber(F.col('WeekOfYear'))).\n",
    "         withColumn('Year', F.year(F.col('DateTime')).cast('string')).\n",
    "         withColumn('Time', F.concat(F.col('Year'), F.col('WeekOfYear'))))\n",
    "crime.take(1)"
   ]
  },
  {
   "cell_type": "code",
   "execution_count": 24,
   "metadata": {},
   "outputs": [
    {
     "name": "stdout",
     "output_type": "stream",
     "text": [
      "+----+------+-----+\n",
      "|Beat|  Time|label|\n",
      "+----+------+-----+\n",
      "|0111|200101|   35|\n",
      "|0111|200102|   36|\n",
      "|0111|200103|   43|\n",
      "|0111|200104|   29|\n",
      "|0111|200105|   23|\n",
      "|0111|200106|   36|\n",
      "|0111|200107|   21|\n",
      "|0111|200108|   26|\n",
      "|0111|200109|   29|\n",
      "|0111|200110|   32|\n",
      "|0111|200111|   36|\n",
      "|0111|200112|   29|\n",
      "|0111|200113|   34|\n",
      "|0111|200114|   33|\n",
      "|0111|200115|   22|\n",
      "|0111|200116|   28|\n",
      "|0111|200117|   44|\n",
      "|0111|200118|   40|\n",
      "|0111|200119|   32|\n",
      "|0111|200120|   33|\n",
      "+----+------+-----+\n",
      "only showing top 20 rows\n",
      "\n"
     ]
    }
   ],
   "source": [
    "# 1. don't really need orderBy, it's \n",
    "# just to make the output cleaner;\n",
    "# 2. rename the count column to label to\n",
    "# make it the label column for the modeling part;\n",
    "# 3. we will be using the crime count dataframe a lot\n",
    "# to perform the modeling, thus cache it to store it\n",
    "# in memory\n",
    "crime_count = (crime.\n",
    "               select('Beat', 'Time').\n",
    "               groupby('Beat', 'Time').\n",
    "               count().\n",
    "               withColumnRenamed('count', 'label').\n",
    "               orderBy('Beat', 'Time').\n",
    "               cache())\n",
    "\n",
    "crime_count.show()"
   ]
  },
  {
   "cell_type": "code",
   "execution_count": 25,
   "metadata": {
    "collapsed": true
   },
   "outputs": [],
   "source": [
    "# find all the distinct beat and train the model on each\n",
    "# beat to generate the prediction for next week\n",
    "beats = (crime_count.\n",
    "         select('Beat').\n",
    "         distinct().\n",
    "         rdd.map(lambda x: x.Beat).\n",
    "         collect())"
   ]
  },
  {
   "cell_type": "code",
   "execution_count": 26,
   "metadata": {},
   "outputs": [
    {
     "name": "stdout",
     "output_type": "stream",
     "text": [
      "+------+-----+\n",
      "|  Time|label|\n",
      "+------+-----+\n",
      "|200101|   33|\n",
      "|200102|   24|\n",
      "|200103|   29|\n",
      "|200104|   22|\n",
      "|200105|   32|\n",
      "|200106|   35|\n",
      "|200107|   32|\n",
      "|200108|   38|\n",
      "|200109|   34|\n",
      "|200110|   40|\n",
      "|200111|   28|\n",
      "|200112|   41|\n",
      "|200113|   29|\n",
      "|200114|   27|\n",
      "|200115|   34|\n",
      "|200116|   34|\n",
      "|200117|   33|\n",
      "|200118|   45|\n",
      "|200119|   36|\n",
      "|200120|   38|\n",
      "+------+-----+\n",
      "only showing top 20 rows\n",
      "\n"
     ]
    }
   ],
   "source": [
    "# we will use one of the beat to demonstrate the modeling for now\n",
    "beat = '1011'\n",
    "subset = (crime_count.\n",
    "          filter(F.col('Beat') == beat).\n",
    "          drop('Beat'))\n",
    "subset.show()"
   ]
  },
  {
   "cell_type": "code",
   "execution_count": 27,
   "metadata": {
    "collapsed": true
   },
   "outputs": [],
   "source": [
    "def create_lagged_features(spark_df, window_col, feature_col, n_lags):\n",
    "    \"\"\"\n",
    "    Reference\n",
    "    ---------\n",
    "    https://stackoverflow.com/questions/34295642/spark-add-new-column-to-dataframe-with-value-from-previous-row\n",
    "    \"\"\"\n",
    "    w = Window().partitionBy().orderBy(window_col)\n",
    "    lagged = (subset.\n",
    "              withColumn('Lag1', F.lag(F.col(feature_col), count = 1).over(w)).\n",
    "              na.drop())\n",
    "    \n",
    "    for lag in range(1, n_lags):\n",
    "        previous_col = 'Lag' + str(lag)\n",
    "        current_col = 'Lag' + str(lag + 1)\n",
    "        lagged = (lagged.\n",
    "                  withColumn(current_col, F.lag(F.col(previous_col), count = 1).over(w)).\n",
    "                  na.drop())\n",
    "    \n",
    "    # after creating the lag sort the time by descending order\n",
    "    # so it will be easier to project to the future\n",
    "    lagged = lagged.orderBy(window_col, ascending = False)\n",
    "    return lagged"
   ]
  },
  {
   "cell_type": "code",
   "execution_count": 28,
   "metadata": {},
   "outputs": [
    {
     "name": "stdout",
     "output_type": "stream",
     "text": [
      "+------+-----+----+----+----+----+\n",
      "|  Time|label|Lag1|Lag2|Lag3|Lag4|\n",
      "+------+-----+----+----+----+----+\n",
      "|201521|    8|  28|  43|  26|  26|\n",
      "|201520|   28|  43|  26|  26|  24|\n",
      "|201519|   43|  26|  26|  24|  34|\n",
      "|201518|   26|  26|  24|  34|  42|\n",
      "|201517|   26|  24|  34|  42|  25|\n",
      "|201516|   24|  34|  42|  25|  24|\n",
      "|201515|   34|  42|  25|  24|  33|\n",
      "|201514|   42|  25|  24|  33|  28|\n",
      "|201513|   25|  24|  33|  28|  29|\n",
      "|201512|   24|  33|  28|  29|  26|\n",
      "|201511|   33|  28|  29|  26|  26|\n",
      "|201510|   28|  29|  26|  26|  29|\n",
      "|201509|   29|  26|  26|  29|  36|\n",
      "|201508|   26|  26|  29|  36|  31|\n",
      "|201507|   26|  29|  36|  31|  33|\n",
      "|201506|   29|  36|  31|  33|  18|\n",
      "|201505|   36|  31|  33|  18|   8|\n",
      "|201504|   31|  33|  18|   8|  30|\n",
      "|201503|   33|  18|   8|  30|  26|\n",
      "|201502|   18|   8|  30|  26|  18|\n",
      "+------+-----+----+----+----+----+\n",
      "only showing top 20 rows\n",
      "\n"
     ]
    }
   ],
   "source": [
    "# after creating the lagged features\n",
    "n_lags = 4\n",
    "window_col = 'Time'\n",
    "feature_col = 'label'\n",
    "lagged = create_lagged_features(subset, window_col, feature_col, n_lags)\n",
    "lagged.show()"
   ]
  },
  {
   "cell_type": "code",
   "execution_count": 29,
   "metadata": {
    "collapsed": true
   },
   "outputs": [],
   "source": [
    "from pyspark.ml import Pipeline\n",
    "from pyspark.ml.feature import VectorAssembler\n",
    "from pyspark.ml.evaluation import RegressionEvaluator\n",
    "from pyspark.ml.regression import RandomForestRegressor\n",
    "from pyspark.ml.tuning import CrossValidator, ParamGridBuilder"
   ]
  },
  {
   "cell_type": "code",
   "execution_count": 30,
   "metadata": {},
   "outputs": [
    {
     "name": "stdout",
     "output_type": "stream",
     "text": [
      "+------+-----+----+----+----+----+--------------------+------------------+\n",
      "|  Time|label|Lag1|Lag2|Lag3|Lag4|            features|        prediction|\n",
      "+------+-----+----+----+----+----+--------------------+------------------+\n",
      "|201521|    8|  28|  43|  26|  26|[28.0,43.0,26.0,2...|29.834430178389503|\n",
      "|201520|   28|  43|  26|  26|  24|[43.0,26.0,26.0,2...| 34.39803203817977|\n",
      "|201519|   43|  26|  26|  24|  34|[26.0,26.0,24.0,3...|31.521093155626154|\n",
      "|201518|   26|  26|  24|  34|  42|[26.0,24.0,34.0,4...| 34.41316196440313|\n",
      "|201517|   26|  24|  34|  42|  25|[24.0,34.0,42.0,2...|34.674297044281694|\n",
      "|201516|   24|  34|  42|  25|  24|[34.0,42.0,25.0,2...| 32.26878850183798|\n",
      "|201515|   34|  42|  25|  24|  33|[42.0,25.0,24.0,3...| 35.18136116275889|\n",
      "|201514|   42|  25|  24|  33|  28|[25.0,24.0,33.0,2...| 32.24527325803077|\n",
      "|201513|   25|  24|  33|  28|  29|[24.0,33.0,28.0,2...|31.935435215560865|\n",
      "|201512|   24|  33|  28|  29|  26|[33.0,28.0,29.0,2...|32.834217465625365|\n",
      "|201511|   33|  28|  29|  26|  26|[28.0,29.0,26.0,2...| 31.57906156600725|\n",
      "|201510|   28|  29|  26|  26|  29|[29.0,26.0,26.0,2...|31.375338669773843|\n",
      "|201509|   29|  26|  26|  29|  36|[26.0,26.0,29.0,3...| 31.47505117394048|\n",
      "|201508|   26|  26|  29|  36|  31|[26.0,29.0,36.0,3...| 32.32712515844954|\n",
      "|201507|   26|  29|  36|  31|  33|[29.0,36.0,31.0,3...|32.472301862647015|\n",
      "|201506|   29|  36|  31|  33|  18|[36.0,31.0,33.0,1...| 34.41050384619531|\n",
      "|201505|   36|  31|  33|  18|   8|[31.0,33.0,18.0,8.0]| 32.49777146755035|\n",
      "|201504|   31|  33|  18|   8|  30|[33.0,18.0,8.0,30.0]| 33.98415110131278|\n",
      "|201503|   33|  18|   8|  30|  26|[18.0,8.0,30.0,26.0]| 32.91346389481189|\n",
      "|201502|   18|   8|  30|  26|  18|[8.0,30.0,26.0,18.0]|30.391942175504155|\n",
      "+------+-----+----+----+----+----+--------------------+------------------+\n",
      "only showing top 20 rows\n",
      "\n"
     ]
    }
   ],
   "source": [
    "# assemble all the columns into one single 'features' column and train\n",
    "# a randomforest model (includes cross validation and grid search on the\n",
    "# maxDepth parameter); we will use r squared to pick to best model; when\n",
    "# having a multi-step process, the recommended way is to define every\n",
    "# stage inside a pipeline\n",
    "input_cols = ['Lag' + str(j) for j in range(1, n_lags + 1)]\n",
    "assembler = VectorAssembler(inputCols = input_cols, outputCol = 'features')\n",
    "rf = RandomForestRegressor(numTrees = 30)\n",
    "stages = [assembler, rf]\n",
    "pipeline = Pipeline(stages = stages)\n",
    "param_grid = ParamGridBuilder().addGrid(rf.maxDepth, [5, 6, 7]).build()\n",
    "evaluator = RegressionEvaluator(labelCol = 'label', \n",
    "                                predictionCol = 'prediction', \n",
    "                                metricName = 'r2')\n",
    "rf_grid = CrossValidator(\n",
    "    estimator = pipeline,\n",
    "    estimatorParamMaps = param_grid,\n",
    "    evaluator = evaluator,\n",
    "    numFolds = 3\n",
    ").fit(lagged)\n",
    "lagged_fitted = rf_grid.transform(lagged)\n",
    "lagged_fitted.show()"
   ]
  },
  {
   "cell_type": "code",
   "execution_count": 31,
   "metadata": {},
   "outputs": [
    {
     "data": {
      "text/plain": [
       "0.3799936891891459"
      ]
     },
     "execution_count": 31,
     "metadata": {},
     "output_type": "execute_result"
    }
   ],
   "source": [
    "eval_metric = evaluator.evaluate(lagged_fitted)\n",
    "eval_metric"
   ]
  },
  {
   "cell_type": "code",
   "execution_count": 32,
   "metadata": {},
   "outputs": [
    {
     "name": "stdout",
     "output_type": "stream",
     "text": [
      "+------+----+----+----+------------------+--------------------+-----------------+\n",
      "|  Time|Lag2|Lag3|Lag4|              Lag1|            features|       prediction|\n",
      "+------+----+----+----+------------------+--------------------+-----------------+\n",
      "|201521|  28|  43|  26|29.834430178389503|[29.8344301783895...|35.18939227938604|\n",
      "+------+----+----+----+------------------+--------------------+-----------------+\n",
      "\n"
     ]
    }
   ],
   "source": [
    "# to predict for next week, the prediction column will now become one of\n",
    "# the latestest lagged feature and everything will also get shifted down\n",
    "# by 1 time slot (i.e. prediction -> Lag1, Lag1 -> Lag2 and so on)\n",
    "next_week = lagged_fitted.limit(1).drop('features', 'label', 'Lag' + str(n_lags))\n",
    "\n",
    "for lag in reversed(range(1, n_lags)):\n",
    "    current_col = 'Lag' + str(lag)\n",
    "    next_col = 'Lag' + str(lag + 1)\n",
    "    next_week = next_week.withColumnRenamed(current_col, next_col)\n",
    "    \n",
    "next_week = next_week.withColumnRenamed('prediction', 'Lag1')\n",
    "\n",
    "next_week_pred = rf_grid.transform(next_week)\n",
    "prediction = (next_week_pred.\n",
    "              rdd.map(lambda x: x.prediction).\n",
    "              collect()[0])\n",
    "next_week_pred.show()"
   ]
  },
  {
   "cell_type": "markdown",
   "metadata": {},
   "source": [
    "The following section ties everything together: loop through all the beats, create the lagged feature, make the prediction for the next week, report the prediction and the model's performance."
   ]
  },
  {
   "cell_type": "code",
   "execution_count": 33,
   "metadata": {},
   "outputs": [
    {
     "name": "stderr",
     "output_type": "stream",
     "text": [
      "100%|██████████| 2/2 [00:16<00:00,  8.46s/it]\n"
     ]
    },
    {
     "data": {
      "text/html": [
       "<div>\n",
       "<style>\n",
       "    .dataframe thead tr:only-child th {\n",
       "        text-align: right;\n",
       "    }\n",
       "\n",
       "    .dataframe thead th {\n",
       "        text-align: left;\n",
       "    }\n",
       "\n",
       "    .dataframe tbody tr th {\n",
       "        vertical-align: top;\n",
       "    }\n",
       "</style>\n",
       "<table border=\"1\" class=\"dataframe\">\n",
       "  <thead>\n",
       "    <tr style=\"text-align: right;\">\n",
       "      <th></th>\n",
       "      <th>beat</th>\n",
       "      <th>prediction</th>\n",
       "      <th>r2</th>\n",
       "    </tr>\n",
       "  </thead>\n",
       "  <tbody>\n",
       "    <tr>\n",
       "      <th>0</th>\n",
       "      <td>1011</td>\n",
       "      <td>35.189392</td>\n",
       "      <td>0.379994</td>\n",
       "    </tr>\n",
       "    <tr>\n",
       "      <th>1</th>\n",
       "      <td>2033</td>\n",
       "      <td>7.075241</td>\n",
       "      <td>0.596205</td>\n",
       "    </tr>\n",
       "  </tbody>\n",
       "</table>\n",
       "</div>"
      ],
      "text/plain": [
       "   beat  prediction        r2\n",
       "0  1011   35.189392  0.379994\n",
       "1  2033    7.075241  0.596205"
      ]
     },
     "execution_count": 33,
     "metadata": {},
     "output_type": "execute_result"
    }
   ],
   "source": [
    "import pandas as pd\n",
    "from tqdm import tqdm\n",
    "\n",
    "# switch to loop over the unqiue_beats variable to predict on all the beats\n",
    "results = []\n",
    "for beat in tqdm(['1011', '2033']):\n",
    "    subset = (crime_count.\n",
    "              filter(F.col('Beat') == beat).\n",
    "              drop('Beat'))\n",
    "    \n",
    "    # some beats might not have enough records,\n",
    "    # here we simply leave them out\n",
    "    if subset.count() > 30:\n",
    "\n",
    "        # create lagged column for 4 time period\n",
    "        # e.g. use week 1, 2, 3's number to predict the\n",
    "        # number for week 4\n",
    "        n_lags = 4\n",
    "        window_col = 'Time'\n",
    "        feature_col = 'label'\n",
    "        lagged = create_lagged_features(subset, window_col, feature_col, n_lags)\n",
    "\n",
    "        # tune the max depth of a random forest with a 5 fold cross validation\n",
    "        input_cols = ['Lag' + str(j) for j in range(1, n_lags + 1)]\n",
    "        assembler = VectorAssembler(inputCols = input_cols, outputCol = 'features')\n",
    "        rf = RandomForestRegressor(numTrees = 30)\n",
    "        stages = [assembler, rf]\n",
    "        pipeline = Pipeline(stages = stages)\n",
    "        param_grid = ParamGridBuilder().addGrid(rf.maxDepth, [5, 6, 7]).build()\n",
    "        evaluator = RegressionEvaluator(labelCol = 'label', \n",
    "                                        predictionCol = 'prediction', \n",
    "                                        metricName = 'r2')\n",
    "        rf_grid = CrossValidator(\n",
    "            estimator = pipeline,\n",
    "            estimatorParamMaps = param_grid,\n",
    "            evaluator = evaluator,\n",
    "            numFolds = 3\n",
    "        ).fit(lagged)\n",
    "        lagged_fitted = rf_grid.transform(lagged)\n",
    "\n",
    "        # transform the data to perform the prediction for the next week\n",
    "        next_week = (lagged_fitted.\n",
    "                     limit(1).\n",
    "                     drop('features', 'label', 'Lag' + str(n_lags)))\n",
    "\n",
    "        for lag in reversed(range(1, n_lags)):\n",
    "            current_col = 'Lag' + str(lag)\n",
    "            next_col = 'Lag' + str(lag + 1)\n",
    "            next_week = next_week.withColumnRenamed(current_col, next_col)\n",
    "\n",
    "        next_week = next_week.withColumnRenamed('prediction', 'Lag1')\n",
    "\n",
    "        next_week_pred = rf_grid.transform(next_week)\n",
    "        prediction = (next_week_pred.\n",
    "                      rdd.map(lambda x: x.prediction).\n",
    "                      collect()[0])\n",
    "\n",
    "        eval_metric = evaluator.evaluate(lagged_fitted)\n",
    "\n",
    "        result = beat, prediction, eval_metric\n",
    "        results.append(result)\n",
    "    \n",
    "df_results = pd.DataFrame(results, columns = ['beat', 'prediction', 'r2'])\n",
    "df_results"
   ]
  },
  {
   "cell_type": "markdown",
   "metadata": {},
   "source": [
    "## Question 4\n",
    "\n",
    "Find patterns of crimes with arrest with respect to time of the day, day of the week, and month.\n",
    "\n",
    "Base on the results below, we see crimes mostly happen during the evening, the summer and on weekdays. The rationale behind why summer time has the most crimes was already mentioned in question 1 and the fact that most crime happens during the evening is not that surprising as well as that's when there are less people on the street to help you and the lack of sunlight also gives the criminial an advantage (i.e. you might not notice them approaching or remember how their face looks like).\n",
    "\n",
    "As for why there is a huge drop in the number of crimes during Sunday, one possible reason is people tend to spend the evening at home to get ready for Monday. Thus there's less chance of being a subject of criminal activities."
   ]
  },
  {
   "cell_type": "code",
   "execution_count": 34,
   "metadata": {},
   "outputs": [
    {
     "data": {
      "text/plain": [
       "[Row(ID='10078659', Case Number='HY267429', Date='05/19/2015 11:57:00 PM', Block='010XX E 79TH ST', IUCR='143A', Primary Type='WEAPONS VIOLATION', Description='UNLAWFUL POSS OF HANDGUN', Location Description='STREET', Arrest=True, Domestic='false', Beat='0624', District='006', Ward='8', Community Area='44', FBI Code='15', X Coordinate='1184626', Y Coordinate='1852799', Year='2015', Updated On='05/26/2015 12:42:06 PM', Latitude='41.751242944', Longitude='-87.599004724', Location='(41.751242944, -87.599004724)', DateTime=None)]"
      ]
     },
     "execution_count": 34,
     "metadata": {},
     "output_type": "execute_result"
    }
   ],
   "source": [
    "data_path = 'Crimes_-_2001_to_present.csv'\n",
    "df = spark.read.csv(data_path, sep = ',', header = True)\n",
    "\n",
    "# convert the Date column to spark timestamp format to retrieve the time,\n",
    "# date formats follow the formats at java.text.SimpleDateFormat\n",
    "#\n",
    "# Reference\n",
    "# ---------\n",
    "# http://docs.oracle.com/javase/6/docs/api/java/text/SimpleDateFormat.html\n",
    "# https://stackoverflow.com/questions/25006607/how-to-get-day-of-week-in-sparksql\n",
    "timestamp_format = 'MM/dd/yyyy HH:mm:ss aa'\n",
    "crime = (df.\n",
    "         withColumn('Arrest', df['Arrest'].cast('boolean')).\n",
    "         filter(F.col('Arrest')).\n",
    "         withColumn('DateTime', \n",
    "                    F.unix_timestamp(F.col('Date'), timestamp_format).cast('timestamp')))\n",
    "crime.take(1)"
   ]
  },
  {
   "cell_type": "code",
   "execution_count": 35,
   "metadata": {},
   "outputs": [
    {
     "data": {
      "text/html": [
       "<div>\n",
       "<style>\n",
       "    .dataframe thead tr:only-child th {\n",
       "        text-align: right;\n",
       "    }\n",
       "\n",
       "    .dataframe thead th {\n",
       "        text-align: left;\n",
       "    }\n",
       "\n",
       "    .dataframe tbody tr th {\n",
       "        vertical-align: top;\n",
       "    }\n",
       "</style>\n",
       "<table border=\"1\" class=\"dataframe\">\n",
       "  <thead>\n",
       "    <tr style=\"text-align: right;\">\n",
       "      <th></th>\n",
       "      <th>Hour</th>\n",
       "      <th>count</th>\n",
       "    </tr>\n",
       "  </thead>\n",
       "  <tbody>\n",
       "    <tr>\n",
       "      <th>0</th>\n",
       "      <td>NaN</td>\n",
       "      <td>1133689</td>\n",
       "    </tr>\n",
       "    <tr>\n",
       "      <th>1</th>\n",
       "      <td>1.0</td>\n",
       "      <td>51649</td>\n",
       "    </tr>\n",
       "    <tr>\n",
       "      <th>2</th>\n",
       "      <td>2.0</td>\n",
       "      <td>41354</td>\n",
       "    </tr>\n",
       "    <tr>\n",
       "      <th>3</th>\n",
       "      <td>3.0</td>\n",
       "      <td>31338</td>\n",
       "    </tr>\n",
       "    <tr>\n",
       "      <th>4</th>\n",
       "      <td>4.0</td>\n",
       "      <td>21620</td>\n",
       "    </tr>\n",
       "    <tr>\n",
       "      <th>5</th>\n",
       "      <td>5.0</td>\n",
       "      <td>14717</td>\n",
       "    </tr>\n",
       "    <tr>\n",
       "      <th>6</th>\n",
       "      <td>6.0</td>\n",
       "      <td>18029</td>\n",
       "    </tr>\n",
       "    <tr>\n",
       "      <th>7</th>\n",
       "      <td>7.0</td>\n",
       "      <td>23888</td>\n",
       "    </tr>\n",
       "    <tr>\n",
       "      <th>8</th>\n",
       "      <td>8.0</td>\n",
       "      <td>37567</td>\n",
       "    </tr>\n",
       "    <tr>\n",
       "      <th>9</th>\n",
       "      <td>9.0</td>\n",
       "      <td>48687</td>\n",
       "    </tr>\n",
       "    <tr>\n",
       "      <th>10</th>\n",
       "      <td>10.0</td>\n",
       "      <td>67762</td>\n",
       "    </tr>\n",
       "    <tr>\n",
       "      <th>11</th>\n",
       "      <td>11.0</td>\n",
       "      <td>89522</td>\n",
       "    </tr>\n",
       "    <tr>\n",
       "      <th>12</th>\n",
       "      <td>12.0</td>\n",
       "      <td>94380</td>\n",
       "    </tr>\n",
       "  </tbody>\n",
       "</table>\n",
       "</div>"
      ],
      "text/plain": [
       "    Hour    count\n",
       "0    NaN  1133689\n",
       "1    1.0    51649\n",
       "2    2.0    41354\n",
       "3    3.0    31338\n",
       "4    4.0    21620\n",
       "5    5.0    14717\n",
       "6    6.0    18029\n",
       "7    7.0    23888\n",
       "8    8.0    37567\n",
       "9    9.0    48687\n",
       "10  10.0    67762\n",
       "11  11.0    89522\n",
       "12  12.0    94380"
      ]
     },
     "execution_count": 35,
     "metadata": {},
     "output_type": "execute_result"
    }
   ],
   "source": [
    "crime_per_hour = (crime.\n",
    "                  select(F.hour(F.col('DateTime')).alias('Hour')).\n",
    "                  groupby('Hour').\n",
    "                  count().\n",
    "                  orderBy('Hour').\n",
    "                  toPandas())\n",
    "crime_per_hour.to_csv('crime_per_hour.csv', index = False)\n",
    "crime_per_hour"
   ]
  },
  {
   "cell_type": "code",
   "execution_count": 36,
   "metadata": {},
   "outputs": [
    {
     "data": {
      "text/html": [
       "<div>\n",
       "<style>\n",
       "    .dataframe thead tr:only-child th {\n",
       "        text-align: right;\n",
       "    }\n",
       "\n",
       "    .dataframe thead th {\n",
       "        text-align: left;\n",
       "    }\n",
       "\n",
       "    .dataframe tbody tr th {\n",
       "        vertical-align: top;\n",
       "    }\n",
       "</style>\n",
       "<table border=\"1\" class=\"dataframe\">\n",
       "  <thead>\n",
       "    <tr style=\"text-align: right;\">\n",
       "      <th></th>\n",
       "      <th>Day</th>\n",
       "      <th>count</th>\n",
       "    </tr>\n",
       "  </thead>\n",
       "  <tbody>\n",
       "    <tr>\n",
       "      <th>0</th>\n",
       "      <td>Wednesday</td>\n",
       "      <td>78440</td>\n",
       "    </tr>\n",
       "    <tr>\n",
       "      <th>1</th>\n",
       "      <td>Tuesday</td>\n",
       "      <td>75405</td>\n",
       "    </tr>\n",
       "    <tr>\n",
       "      <th>2</th>\n",
       "      <td>None</td>\n",
       "      <td>1133689</td>\n",
       "    </tr>\n",
       "    <tr>\n",
       "      <th>3</th>\n",
       "      <td>Friday</td>\n",
       "      <td>80250</td>\n",
       "    </tr>\n",
       "    <tr>\n",
       "      <th>4</th>\n",
       "      <td>Thursday</td>\n",
       "      <td>78759</td>\n",
       "    </tr>\n",
       "    <tr>\n",
       "      <th>5</th>\n",
       "      <td>Saturday</td>\n",
       "      <td>82115</td>\n",
       "    </tr>\n",
       "    <tr>\n",
       "      <th>6</th>\n",
       "      <td>Monday</td>\n",
       "      <td>69794</td>\n",
       "    </tr>\n",
       "    <tr>\n",
       "      <th>7</th>\n",
       "      <td>Sunday</td>\n",
       "      <td>75750</td>\n",
       "    </tr>\n",
       "  </tbody>\n",
       "</table>\n",
       "</div>"
      ],
      "text/plain": [
       "         Day    count\n",
       "0  Wednesday    78440\n",
       "1    Tuesday    75405\n",
       "2       None  1133689\n",
       "3     Friday    80250\n",
       "4   Thursday    78759\n",
       "5   Saturday    82115\n",
       "6     Monday    69794\n",
       "7     Sunday    75750"
      ]
     },
     "execution_count": 36,
     "metadata": {},
     "output_type": "execute_result"
    }
   ],
   "source": [
    "# 'EEEE' stands for the full name of the weekday\n",
    "crime_per_day = (crime.\n",
    "                 select(F.date_format(F.col('DateTime'), 'EEEE').alias('Day')).\n",
    "                 groupby('Day').\n",
    "                 count().\n",
    "                 toPandas())\n",
    "crime_per_day.to_csv('crime_per_day.csv', index = False)\n",
    "crime_per_day"
   ]
  },
  {
   "cell_type": "code",
   "execution_count": 37,
   "metadata": {},
   "outputs": [
    {
     "data": {
      "text/html": [
       "<div>\n",
       "<style>\n",
       "    .dataframe thead tr:only-child th {\n",
       "        text-align: right;\n",
       "    }\n",
       "\n",
       "    .dataframe thead th {\n",
       "        text-align: left;\n",
       "    }\n",
       "\n",
       "    .dataframe tbody tr th {\n",
       "        vertical-align: top;\n",
       "    }\n",
       "</style>\n",
       "<table border=\"1\" class=\"dataframe\">\n",
       "  <thead>\n",
       "    <tr style=\"text-align: right;\">\n",
       "      <th></th>\n",
       "      <th>Month</th>\n",
       "      <th>count</th>\n",
       "    </tr>\n",
       "  </thead>\n",
       "  <tbody>\n",
       "    <tr>\n",
       "      <th>0</th>\n",
       "      <td>NaN</td>\n",
       "      <td>1133689</td>\n",
       "    </tr>\n",
       "    <tr>\n",
       "      <th>1</th>\n",
       "      <td>1.0</td>\n",
       "      <td>45640</td>\n",
       "    </tr>\n",
       "    <tr>\n",
       "      <th>2</th>\n",
       "      <td>2.0</td>\n",
       "      <td>42593</td>\n",
       "    </tr>\n",
       "    <tr>\n",
       "      <th>3</th>\n",
       "      <td>3.0</td>\n",
       "      <td>48676</td>\n",
       "    </tr>\n",
       "    <tr>\n",
       "      <th>4</th>\n",
       "      <td>4.0</td>\n",
       "      <td>45137</td>\n",
       "    </tr>\n",
       "    <tr>\n",
       "      <th>5</th>\n",
       "      <td>5.0</td>\n",
       "      <td>47924</td>\n",
       "    </tr>\n",
       "    <tr>\n",
       "      <th>6</th>\n",
       "      <td>6.0</td>\n",
       "      <td>44360</td>\n",
       "    </tr>\n",
       "    <tr>\n",
       "      <th>7</th>\n",
       "      <td>7.0</td>\n",
       "      <td>46000</td>\n",
       "    </tr>\n",
       "    <tr>\n",
       "      <th>8</th>\n",
       "      <td>8.0</td>\n",
       "      <td>46633</td>\n",
       "    </tr>\n",
       "    <tr>\n",
       "      <th>9</th>\n",
       "      <td>9.0</td>\n",
       "      <td>45210</td>\n",
       "    </tr>\n",
       "    <tr>\n",
       "      <th>10</th>\n",
       "      <td>10.0</td>\n",
       "      <td>46118</td>\n",
       "    </tr>\n",
       "    <tr>\n",
       "      <th>11</th>\n",
       "      <td>11.0</td>\n",
       "      <td>43085</td>\n",
       "    </tr>\n",
       "    <tr>\n",
       "      <th>12</th>\n",
       "      <td>12.0</td>\n",
       "      <td>39137</td>\n",
       "    </tr>\n",
       "  </tbody>\n",
       "</table>\n",
       "</div>"
      ],
      "text/plain": [
       "    Month    count\n",
       "0     NaN  1133689\n",
       "1     1.0    45640\n",
       "2     2.0    42593\n",
       "3     3.0    48676\n",
       "4     4.0    45137\n",
       "5     5.0    47924\n",
       "6     6.0    44360\n",
       "7     7.0    46000\n",
       "8     8.0    46633\n",
       "9     9.0    45210\n",
       "10   10.0    46118\n",
       "11   11.0    43085\n",
       "12   12.0    39137"
      ]
     },
     "execution_count": 37,
     "metadata": {},
     "output_type": "execute_result"
    }
   ],
   "source": [
    "crime_per_month = (crime.\n",
    "                   select(F.month(F.col('DateTime')).alias('Month')).\n",
    "                   groupby('Month').\n",
    "                   count().\n",
    "                   orderBy('Month').\n",
    "                   toPandas())\n",
    "crime_per_month.to_csv('crime_per_month.csv', index = False)\n",
    "crime_per_month"
   ]
  },
  {
   "cell_type": "code",
   "execution_count": 38,
   "metadata": {
    "collapsed": true
   },
   "outputs": [],
   "source": [
    "# terminate the spark session\n",
    "spark.stop()"
   ]
  },
  {
   "cell_type": "markdown",
   "metadata": {},
   "source": [
    "# Reference\n",
    "\n",
    "- [Drill Documentation: SQL Window Functions Introduction](https://drill.apache.org/docs/sql-window-functions-introduction/)"
   ]
  }
 ],
 "metadata": {
  "kernelspec": {
   "display_name": "trainingAI",
   "language": "python",
   "name": "trainingai"
  },
  "language_info": {
   "codemirror_mode": {
    "name": "ipython",
    "version": 3
   },
   "file_extension": ".py",
   "mimetype": "text/x-python",
   "name": "python",
   "nbconvert_exporter": "python",
   "pygments_lexer": "ipython3",
   "version": "3.8.5"
  },
  "toc": {
   "nav_menu": {
    "height": "92px",
    "width": "275px"
   },
   "number_sections": true,
   "sideBar": true,
   "skip_h1_title": false,
   "title_cell": "Table of Contents",
   "title_sidebar": "Contents",
   "toc_cell": true,
   "toc_position": {},
   "toc_section_display": "block",
   "toc_window_display": true
  },
  "varInspector": {
   "cols": {
    "lenName": 16,
    "lenType": 16,
    "lenVar": 40
   },
   "kernels_config": {
    "python": {
     "delete_cmd_postfix": "",
     "delete_cmd_prefix": "del ",
     "library": "var_list.py",
     "varRefreshCmd": "print(var_dic_list())"
    },
    "r": {
     "delete_cmd_postfix": ") ",
     "delete_cmd_prefix": "rm(",
     "library": "var_list.r",
     "varRefreshCmd": "cat(var_dic_list()) "
    }
   },
   "types_to_exclude": [
    "module",
    "function",
    "builtin_function_or_method",
    "instance",
    "_Feature"
   ],
   "window_display": false
  }
 },
 "nbformat": 4,
 "nbformat_minor": 2
}
