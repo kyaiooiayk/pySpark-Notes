{
 "cells": [
  {
   "cell_type": "markdown",
   "id": "b6669b35",
   "metadata": {
    "toc": true
   },
   "source": [
    "<h1>Table of Contents<span class=\"tocSkip\"></span></h1>\n",
""   ]
  },
  {
   "cell_type": "markdown",
   "id": "4426d941",
   "metadata": {},
   "source": [
    "# Intoduction\n",
    "<hr style = \"border:2px solid black\" ></hr>"
   ]
  },
  {
   "cell_type": "markdown",
   "id": "29882e4c",
   "metadata": {},
   "source": [
    "\n",
    "**What?** Building a KMeans with PySpark MLib\n",
    "\n",
""   ]
  },
  {
   "cell_type": "markdown",
   "id": "53f2e0dc",
   "metadata": {},
   "source": [
    "# Imports\n",
    "<hr style = \"border:2px solid black\" ></hr>"
   ]
  },
  {
   "cell_type": "code",
   "execution_count": 29,
   "id": "ca5e7e85",
   "metadata": {
    "ExecuteTime": {
     "end_time": "2023-03-02T12:46:27.385898Z",
     "start_time": "2023-03-02T12:46:25.516808Z"
    }
   },
   "outputs": [],
   "source": [
    "from pyspark.sql import SparkSession\n",
    "from pyspark.sql.types import *\n",
    "from pyspark.sql.functions import col, lit, when\n",
    "from pyspark.ml.feature import (\n",
    "    VectorAssembler,\n",
    "    StringIndexer,\n",
    "    OneHotEncoder,\n",
    "    StandardScaler,\n",
    ")\n",
    "from pyspark.ml.clustering import KMeans\n",
    "import matplotlib.pyplot as plt\n",
    "import seaborn as sns"
   ]
  },
  {
   "cell_type": "markdown",
   "id": "cff1e377",
   "metadata": {
    "ExecuteTime": {
     "end_time": "2023-03-02T10:36:09.792032Z",
     "start_time": "2023-03-02T10:36:09.788185Z"
    }
   },
   "source": [
    "# Start a spark session\n",
    "<hr style = \"border:2px solid black\" ></hr>"
   ]
  },
  {
   "cell_type": "code",
   "execution_count": 2,
   "id": "d65eee1c",
   "metadata": {
    "ExecuteTime": {
     "end_time": "2023-03-02T11:41:07.398730Z",
     "start_time": "2023-03-02T11:41:02.949172Z"
    }
   },
   "outputs": [
    {
     "name": "stderr",
     "output_type": "stream",
     "text": [
      "Using Spark's default log4j profile: org/apache/spark/log4j-defaults.properties\n",
      "Setting default log level to \"WARN\".\n",
      "To adjust logging level use sc.setLogLevel(newLevel). For SparkR, use setLogLevel(newLevel).\n",
      "23/03/02 11:41:04 WARN NativeCodeLoader: Unable to load native-hadoop library for your platform... using builtin-java classes where applicable\n"
     ]
    }
   ],
   "source": [
    "spark = SparkSession.builder.appName('PySpark_for_DataScience').getOrCreate()"
   ]
  },
  {
   "cell_type": "markdown",
   "id": "0c7f5b89",
   "metadata": {
    "ExecuteTime": {
     "end_time": "2023-03-02T10:38:17.270283Z",
     "start_time": "2023-03-02T10:38:17.266378Z"
    }
   },
   "source": [
    "# Read-in dataset\n",
    "<hr style = \"border:2px solid black\" ></hr>"
   ]
  },
  {
   "cell_type": "code",
   "execution_count": 3,
   "id": "a2958f87",
   "metadata": {
    "ExecuteTime": {
     "end_time": "2023-03-02T11:41:11.822308Z",
     "start_time": "2023-03-02T11:41:07.402938Z"
    }
   },
   "outputs": [],
   "source": [
    "df = spark.read.csv(\n",
    "    './data/spotify_weekly_chart.csv',\n",
    "    sep=',',\n",
    "    header=True,\n",
    ")"
   ]
  },
  {
   "cell_type": "code",
   "execution_count": 4,
   "id": "6e87db33",
   "metadata": {
    "ExecuteTime": {
     "end_time": "2023-03-02T11:41:11.842143Z",
     "start_time": "2023-03-02T11:41:11.824540Z"
    }
   },
   "outputs": [
    {
     "name": "stdout",
     "output_type": "stream",
     "text": [
      "root\n",
      " |-- Pos: string (nullable = true)\n",
      " |-- P+: string (nullable = true)\n",
      " |-- Artist: string (nullable = true)\n",
      " |-- Title: string (nullable = true)\n",
      " |-- Wks: string (nullable = true)\n",
      " |-- Pk: string (nullable = true)\n",
      " |-- (x?): string (nullable = true)\n",
      " |-- Streams: string (nullable = true)\n",
      " |-- Streams+: string (nullable = true)\n",
      " |-- Total: string (nullable = true)\n",
      "\n"
     ]
    }
   ],
   "source": [
    "df.printSchema()"
   ]
  },
  {
   "cell_type": "markdown",
   "id": "b761e7fa",
   "metadata": {},
   "source": [
    "- As we can observe, PySpark has loaded all of the columns as a string. \n",
    "- To perform exploratory data analysis, we need to change the Schema. "
   ]
  },
  {
   "cell_type": "code",
   "execution_count": 5,
   "id": "b4df4f53",
   "metadata": {
    "ExecuteTime": {
     "end_time": "2023-03-02T11:41:11.850181Z",
     "start_time": "2023-03-02T11:41:11.844846Z"
    }
   },
   "outputs": [],
   "source": [
    "data_schema = [\n",
    "    StructField('Pos', IntegerType(), True),\n",
    "    StructField('P+', StringType(), True),\n",
    "    StructField('Artist', StringType(), True),\n",
    "    StructField('Title', StringType(), True),\n",
    "    StructField('Wks', IntegerType(), True),\n",
    "    StructField('Pk', IntegerType(), True),\n",
    "    StructField('(x?)', StringType(), True),\n",
    "    StructField('Streams', IntegerType(), True),\n",
    "    StructField('Streams+', DoubleType(), True),\n",
    "    StructField('Total', IntegerType(), True),\n",
    "]\n",
    "\n",
    "final_struc = StructType(fields=data_schema)"
   ]
  },
  {
   "cell_type": "code",
   "execution_count": 6,
   "id": "8ae2ee34",
   "metadata": {
    "ExecuteTime": {
     "end_time": "2023-03-02T11:41:11.864898Z",
     "start_time": "2023-03-02T11:41:11.853043Z"
    }
   },
   "outputs": [
    {
     "data": {
      "text/plain": [
       "StructType(List(StructField(Pos,IntegerType,true),StructField(P+,StringType,true),StructField(Artist,StringType,true),StructField(Title,StringType,true),StructField(Wks,IntegerType,true),StructField(Pk,IntegerType,true),StructField((x?),StringType,true),StructField(Streams,IntegerType,true),StructField(Streams+,DoubleType,true),StructField(Total,IntegerType,true)))"
      ]
     },
     "execution_count": 6,
     "metadata": {},
     "output_type": "execute_result"
    }
   ],
   "source": [
    "final_struc"
   ]
  },
  {
   "cell_type": "markdown",
   "id": "ec6c8e18",
   "metadata": {},
   "source": [
    "- Load the CSV files again using extra argument schema."
   ]
  },
  {
   "cell_type": "code",
   "execution_count": 7,
   "id": "dbf48062",
   "metadata": {
    "ExecuteTime": {
     "end_time": "2023-03-02T11:41:11.920153Z",
     "start_time": "2023-03-02T11:41:11.867530Z"
    },
    "scrolled": true
   },
   "outputs": [
    {
     "name": "stdout",
     "output_type": "stream",
     "text": [
      "root\n",
      " |-- Pos: integer (nullable = true)\n",
      " |-- P+: string (nullable = true)\n",
      " |-- Artist: string (nullable = true)\n",
      " |-- Title: string (nullable = true)\n",
      " |-- Wks: integer (nullable = true)\n",
      " |-- Pk: integer (nullable = true)\n",
      " |-- (x?): string (nullable = true)\n",
      " |-- Streams: integer (nullable = true)\n",
      " |-- Streams+: double (nullable = true)\n",
      " |-- Total: integer (nullable = true)\n",
      "\n"
     ]
    }
   ],
   "source": [
    "df = spark.read.csv(\n",
    "    './data/spotify_weekly_chart.csv',\n",
    "    sep=',',\n",
    "    header=True,\n",
    "    schema=final_struc\n",
    ")\n",
    "\n",
    "df.printSchema()"
   ]
  },
  {
   "cell_type": "code",
   "execution_count": 8,
   "id": "f5089194",
   "metadata": {
    "ExecuteTime": {
     "end_time": "2023-03-02T11:41:12.648448Z",
     "start_time": "2023-03-02T11:41:11.923263Z"
    }
   },
   "outputs": [
    {
     "data": {
      "text/html": [
       "<style scoped>\n",
       "    .dataframe tbody tr th:only-of-type {\n",
       "        vertical-align: middle;\n",
       "    }\n",
       "\n",
       "    .dataframe tbody tr th {\n",
       "        vertical-align: top;\n",
       "    }\n",
       "\n",
       "    .dataframe thead th {\n",
       "        text-align: right;\n",
       "    }\n",
       "</style>\n",
       "<table border=\"1\" class=\"dataframe\">\n",
       "  <thead>\n",
       "    <tr style=\"text-align: right;\">\n",
       "      <th></th>\n",
       "      <th>Pos</th>\n",
       "      <th>P+</th>\n",
       "      <th>Artist</th>\n",
       "      <th>Title</th>\n",
       "      <th>Wks</th>\n",
       "      <th>Pk</th>\n",
       "      <th>(x?)</th>\n",
       "      <th>Streams</th>\n",
       "      <th>Streams+</th>\n",
       "      <th>Total</th>\n",
       "    </tr>\n",
       "  </thead>\n",
       "  <tbody>\n",
       "    <tr>\n",
       "      <th>0</th>\n",
       "      <td>1</td>\n",
       "      <td>=</td>\n",
       "      <td>Miley Cyrus</td>\n",
       "      <td>Flowers</td>\n",
       "      <td>6</td>\n",
       "      <td>1</td>\n",
       "      <td>6</td>\n",
       "      <td>61763072</td>\n",
       "      <td>-9016633.0</td>\n",
       "      <td>528646130</td>\n",
       "    </tr>\n",
       "    <tr>\n",
       "      <th>1</th>\n",
       "      <td>2</td>\n",
       "      <td>=</td>\n",
       "      <td>SZA</td>\n",
       "      <td>Kill Bill</td>\n",
       "      <td>11</td>\n",
       "      <td>1</td>\n",
       "      <td>2</td>\n",
       "      <td>46549077</td>\n",
       "      <td>-2452314.0</td>\n",
       "      <td>510454785</td>\n",
       "    </tr>\n",
       "    <tr>\n",
       "      <th>2</th>\n",
       "      <td>3</td>\n",
       "      <td>+1</td>\n",
       "      <td>PinkPantheress</td>\n",
       "      <td>Boy's a liar Pt. 2</td>\n",
       "      <td>3</td>\n",
       "      <td>3</td>\n",
       "      <td>1</td>\n",
       "      <td>39172306</td>\n",
       "      <td>7520136.0</td>\n",
       "      <td>83824655</td>\n",
       "    </tr>\n",
       "    <tr>\n",
       "      <th>3</th>\n",
       "      <td>4</td>\n",
       "      <td>-1</td>\n",
       "      <td>Bizarrap</td>\n",
       "      <td>Shakira: Bzrp Music Sessions, Vol. 53</td>\n",
       "      <td>7</td>\n",
       "      <td>2</td>\n",
       "      <td>3</td>\n",
       "      <td>34781301</td>\n",
       "      <td>-3881780.0</td>\n",
       "      <td>335240889</td>\n",
       "    </tr>\n",
       "    <tr>\n",
       "      <th>4</th>\n",
       "      <td>5</td>\n",
       "      <td>=</td>\n",
       "      <td>Harry Styles</td>\n",
       "      <td>As It Was</td>\n",
       "      <td>47</td>\n",
       "      <td>1</td>\n",
       "      <td>11</td>\n",
       "      <td>29532543</td>\n",
       "      <td>-1523395.0</td>\n",
       "      <td>1924932123</td>\n",
       "    </tr>\n",
       "  </tbody>\n",
       "</table>\n",
""      ],
      "text/plain": [
       "   Pos  P+           Artist                                  Title  Wks  Pk  \\\n",
       "0    1   =     Miley Cyrus                                 Flowers    6   1   \n",
       "1    2   =             SZA                               Kill Bill   11   1   \n",
       "2    3  +1  PinkPantheress                      Boy's a liar Pt. 2    3   3   \n",
       "3    4  -1        Bizarrap   Shakira: Bzrp Music Sessions, Vol. 53    7   2   \n",
       "4    5   =    Harry Styles                               As It Was   47   1   \n",
       "\n",
       "  (x?)   Streams   Streams+       Total  \n",
       "0    6  61763072 -9016633.0   528646130  \n",
       "1    2  46549077 -2452314.0   510454785  \n",
       "2    1  39172306  7520136.0    83824655  \n",
       "3    3  34781301 -3881780.0   335240889  \n",
       "4   11  29532543 -1523395.0  1924932123  "
      ]
     },
     "execution_count": 8,
     "metadata": {},
     "output_type": "execute_result"
    }
   ],
   "source": [
    "df.limit(5).toPandas()"
   ]
  },
  {
   "cell_type": "code",
   "execution_count": 9,
   "id": "b88368c5",
   "metadata": {
    "ExecuteTime": {
     "end_time": "2023-03-02T11:41:14.083481Z",
     "start_time": "2023-03-02T11:41:12.653341Z"
    }
   },
   "outputs": [
    {
     "name": "stderr",
     "output_type": "stream",
     "text": [
      "\r",
      "[Stage 2:>                                                          (0 + 1) / 1]\r"
     ]
    },
    {
     "name": "stdout",
     "output_type": "stream",
     "text": [
      "+-------+------------------+-------------------+-----------+------+-----------------+-----------------+------------------+-----------------+------------------+-------------------+\n",
      "|summary|               Pos|                 P+|     Artist| Title|              Wks|               Pk|              (x?)|          Streams|          Streams+|              Total|\n",
      "+-------+------------------+-------------------+-----------+------+-----------------+-----------------+------------------+-----------------+------------------+-------------------+\n",
      "|  count|               200|                200|        200|   200|              200|              200|                32|              200|               185|                192|\n",
      "|   mean|             100.5|-3.3257142857142856|       null| 505.0|           44.775|            42.68|           4.40625|   1.1778173855E7|-516817.8864864865|       3.85947391E8|\n",
      "| stddev|57.879184513951124| 17.479122897737746|       null|  null|62.69367479496223|42.72240182960751|3.9907908101430953|6643338.568806558|1246488.1820555397|4.144556519574003E8|\n",
      "|    min|                 1|                 +1|     Adele | 10:35|                1|                1|                 1|          7242499|        -9016633.0|            7464351|\n",
      "|    max|               200|                 RE|Ñengo Flow |lovely|              316|              191|                 9|         61763072|         7520136.0|         2091949036|\n",
      "+-------+------------------+-------------------+-----------+------+-----------------+-----------------+------------------+-----------------+------------------+-------------------+\n",
      "\n"
     ]
    },
    {
     "name": "stderr",
     "output_type": "stream",
     "text": [
      "\r",
      "                                                                                \r"
     ]
    }
   ],
   "source": [
    "df.describe().show()"
   ]
  },
  {
   "cell_type": "code",
   "execution_count": 10,
   "id": "4166cb99",
   "metadata": {
    "ExecuteTime": {
     "end_time": "2023-03-02T11:41:14.283061Z",
     "start_time": "2023-03-02T11:41:14.085531Z"
    }
   },
   "outputs": [
    {
     "data": {
      "text/plain": [
       "200"
      ]
     },
     "execution_count": 10,
     "metadata": {},
     "output_type": "execute_result"
    }
   ],
   "source": [
    "df.count()"
   ]
  },
  {
   "cell_type": "markdown",
   "id": "821977b3",
   "metadata": {},
   "source": [
    "# Cleaning\n",
    "<hr style = \"border:2px solid black\" ></hr>"
   ]
  },
  {
   "cell_type": "markdown",
   "id": "3bf37a2c",
   "metadata": {},
   "source": [
    "- You can rename your column by using withColumnRenamed function. It requires an old name and a new name as string. "
   ]
  },
  {
   "cell_type": "code",
   "execution_count": 11,
   "id": "53c74d0b",
   "metadata": {
    "ExecuteTime": {
     "end_time": "2023-03-02T11:41:14.426068Z",
     "start_time": "2023-03-02T11:41:14.286837Z"
    }
   },
   "outputs": [
    {
     "name": "stdout",
     "output_type": "stream",
     "text": [
      "+---+---+---------------+--------------------+---+---+----+--------+----------+----------+\n",
      "|Pos| P+|         Artist|               Title|Wks| Pk|(x?)| Streams|  Streams+|     Total|\n",
      "+---+---+---------------+--------------------+---+---+----+--------+----------+----------+\n",
      "|  1|  =|   Miley Cyrus |             Flowers|  6|  1|   6|61763072|-9016633.0| 528646130|\n",
      "|  2|  =|           SZA |           Kill Bill| 11|  1|   2|46549077|-2452314.0| 510454785|\n",
      "|  3| +1|PinkPantheress |  Boy's a liar Pt. 2|  3|  3|   1|39172306| 7520136.0|  83824655|\n",
      "|  4| -1|      Bizarrap |Shakira: Bzrp Mus...|  7|  2|   3|34781301|-3881780.0| 335240889|\n",
      "|  5|  =|  Harry Styles |           As It Was| 47|  1|  11|29532543|-1523395.0|1924932123|\n",
      "+---+---+---------------+--------------------+---+---+----+--------+----------+----------+\n",
      "only showing top 5 rows\n",
      "\n"
     ]
    }
   ],
   "source": [
    "f = df.withColumnRenamed('Pos', 'Rank')\n",
    "\n",
    "df.show(5)"
   ]
  },
  {
   "cell_type": "markdown",
   "id": "7ea9deb9",
   "metadata": {},
   "source": [
    "- To drop single or multiple columns, you can use drop() function."
   ]
  },
  {
   "cell_type": "code",
   "execution_count": 12,
   "id": "c768e408",
   "metadata": {
    "ExecuteTime": {
     "end_time": "2023-03-02T11:41:14.575484Z",
     "start_time": "2023-03-02T11:41:14.428705Z"
    }
   },
   "outputs": [
    {
     "name": "stdout",
     "output_type": "stream",
     "text": [
      "+---+---------------+--------------------+---+--------+----------+\n",
      "|Pos|         Artist|               Title|Wks| Streams|     Total|\n",
      "+---+---------------+--------------------+---+--------+----------+\n",
      "|  1|   Miley Cyrus |             Flowers|  6|61763072| 528646130|\n",
      "|  2|           SZA |           Kill Bill| 11|46549077| 510454785|\n",
      "|  3|PinkPantheress |  Boy's a liar Pt. 2|  3|39172306|  83824655|\n",
      "|  4|      Bizarrap |Shakira: Bzrp Mus...|  7|34781301| 335240889|\n",
      "|  5|  Harry Styles |           As It Was| 47|29532543|1924932123|\n",
      "+---+---------------+--------------------+---+--------+----------+\n",
      "only showing top 5 rows\n",
      "\n"
     ]
    }
   ],
   "source": [
    "df = df.drop('P+', 'Pk', '(x?)', 'Streams+')\n",
    "\n",
    "df.show(5)"
   ]
  },
  {
   "cell_type": "markdown",
   "id": "e4a94a8b",
   "metadata": {},
   "source": [
    "- You can use .na for dealing with missing valuse. In our case, we are dropping all missing values rows. "
   ]
  },
  {
   "cell_type": "code",
   "execution_count": 13,
   "id": "3461a60b",
   "metadata": {
    "ExecuteTime": {
     "end_time": "2023-03-02T11:41:14.595559Z",
     "start_time": "2023-03-02T11:41:14.578288Z"
    }
   },
   "outputs": [],
   "source": [
    "df = df.na.drop()"
   ]
  },
  {
   "cell_type": "markdown",
   "id": "e28a4d01",
   "metadata": {},
   "source": [
    "# EDA\n",
    "<hr style = \"border:2px solid black\" ></hr>"
   ]
  },
  {
   "cell_type": "markdown",
   "id": "b1e08e2f",
   "metadata": {},
   "source": [
    "- For data analysis, we will be using PySpark API to translate SQL commands. In the first example, we are selecting three columns and display the top 5 rows. "
   ]
  },
  {
   "cell_type": "code",
   "execution_count": 14,
   "id": "cacdb83f",
   "metadata": {
    "ExecuteTime": {
     "end_time": "2023-03-02T11:41:14.729749Z",
     "start_time": "2023-03-02T11:41:14.598143Z"
    },
    "scrolled": true
   },
   "outputs": [
    {
     "name": "stdout",
     "output_type": "stream",
     "text": [
      "+---------------+---------------+----------+\n",
      "|         Artist|         Artist|     Total|\n",
      "+---------------+---------------+----------+\n",
      "|   Miley Cyrus |   Miley Cyrus | 528646130|\n",
      "|           SZA |           SZA | 510454785|\n",
      "|PinkPantheress |PinkPantheress |  83824655|\n",
      "|      Bizarrap |      Bizarrap | 335240889|\n",
      "|  Harry Styles |  Harry Styles |1924932123|\n",
      "+---------------+---------------+----------+\n",
      "only showing top 5 rows\n",
      "\n"
     ]
    }
   ],
   "source": [
    "df.select(['Artist', 'Artist', 'Total']).show(5)"
   ]
  },
  {
   "cell_type": "markdown",
   "id": "b848db21",
   "metadata": {},
   "source": [
    "- Filter values where ‘Total’ is greater than or equal to 600 million to 700 million. "
   ]
  },
  {
   "cell_type": "code",
   "execution_count": 15,
   "id": "d525a86a",
   "metadata": {
    "ExecuteTime": {
     "end_time": "2023-03-02T11:41:14.942249Z",
     "start_time": "2023-03-02T11:41:14.732133Z"
    }
   },
   "outputs": [
    {
     "name": "stdout",
     "output_type": "stream",
     "text": [
      "+---+-----------+-------------------+---+--------+---------+\n",
      "|Pos|     Artist|              Title|Wks| Streams|    Total|\n",
      "+---+-----------+-------------------+---+--------+---------+\n",
      "| 12|The Weeknd |        Die For You| 58|21655432|664741027|\n",
      "| 57|Steve Lacy |          Bad Habit| 33|12458884|604464538|\n",
      "| 99|    Eminem |         Without Me| 87| 9450373|628174551|\n",
      "|114|   KAROL G |           PROVENZA| 44| 9026567|691040730|\n",
      "|135|    Eminem |The Real Slim Shady| 90| 8423035|610347150|\n",
      "+---+-----------+-------------------+---+--------+---------+\n",
      "only showing top 5 rows\n",
      "\n"
     ]
    }
   ],
   "source": [
    "df.filter(\n",
    "    (col(\"Total\") >= lit(\"600000000\")) & (col(\"Total\") <= lit(\"700000000\"))\n",
    ").show(5)"
   ]
  },
  {
   "cell_type": "markdown",
   "id": "8fae1d0a",
   "metadata": {},
   "source": [
    "- Write if/else statement to create a categorical column using when function."
   ]
  },
  {
   "cell_type": "code",
   "execution_count": 16,
   "id": "d2fcfbd0",
   "metadata": {
    "ExecuteTime": {
     "end_time": "2023-03-02T11:41:15.101217Z",
     "start_time": "2023-03-02T11:41:14.944736Z"
    }
   },
   "outputs": [
    {
     "name": "stdout",
     "output_type": "stream",
     "text": [
      "+---------------+--------------------+---------------------------------------+\n",
      "|         Artist|               Title|CASE WHEN (Wks >= 35) THEN 1 ELSE 0 END|\n",
      "+---------------+--------------------+---------------------------------------+\n",
      "|   Miley Cyrus |             Flowers|                                      0|\n",
      "|           SZA |           Kill Bill|                                      0|\n",
      "|PinkPantheress |  Boy's a liar Pt. 2|                                      0|\n",
      "|      Bizarrap |Shakira: Bzrp Mus...|                                      0|\n",
      "|  Harry Styles |           As It Was|                                      1|\n",
      "+---------------+--------------------+---------------------------------------+\n",
      "only showing top 5 rows\n",
      "\n"
     ]
    }
   ],
   "source": [
    "df.select('Artist', 'Title',\n",
    "          when(df.Wks >= 35, 1).otherwise(0)\n",
    "          ).show(5)"
   ]
  },
  {
   "cell_type": "markdown",
   "id": "f77c4911",
   "metadata": {},
   "source": [
    "- You can use all of the SQL commands as Python API to run a complete query. "
   ]
  },
  {
   "cell_type": "code",
   "execution_count": 17,
   "id": "006849ae",
   "metadata": {
    "ExecuteTime": {
     "end_time": "2023-03-02T11:41:15.619098Z",
     "start_time": "2023-03-02T11:41:15.103787Z"
    }
   },
   "outputs": [
    {
     "name": "stdout",
     "output_type": "stream",
     "text": [
      "+------------------+--------+--------------------+\n",
      "|            Artist|avg(Wks)|          avg(Total)|\n",
      "+------------------+--------+--------------------+\n",
      "|    Billie Eilish |   253.0|       2.089105993E9|\n",
      "|     James Arthur |   289.0|       1.975186494E9|\n",
      "|     Harry Styles |    86.0|1.5296280663333333E9|\n",
      "|The Neighbourhood |   155.0|       1.427743967E9|\n",
      "|       Elton John |    80.0|       1.378850227E9|\n",
      "+------------------+--------+--------------------+\n",
      "only showing top 5 rows\n",
      "\n"
     ]
    }
   ],
   "source": [
    "df.select(['Artist', 'Wks', 'Total'])\\\n",
    "    .groupBy('Artist')\\\n",
    "    .mean()\\\n",
    "    .orderBy(['avg(Total)'], ascending=[False])\\\n",
    "    .show(5)"
   ]
  },
  {
   "cell_type": "markdown",
   "id": "596d553e",
   "metadata": {},
   "source": [
    "- Let’s take above query and try to display it as a bar chart.\n",
    "- We are plotting “artists v.s average song streams” and we are only displaying the top seven artists. "
   ]
  },
  {
   "cell_type": "code",
   "execution_count": 18,
   "id": "4d4dc2f5",
   "metadata": {
    "ExecuteTime": {
     "end_time": "2023-03-02T11:41:16.181893Z",
     "start_time": "2023-03-02T11:41:15.623039Z"
    }
   },
   "outputs": [],
   "source": [
    "vis_df = (\n",
    "    df.select([\"Artist\", \"Wks\", \"Total\"])\n",
    "    .groupBy(\"Artist\")\n",
    "    .mean()\n",
    "    .orderBy([\"avg(Total)\"], ascending=[False])\n",
    "    .toPandas()\n",
    ")"
   ]
  },
  {
   "cell_type": "code",
   "execution_count": 19,
   "id": "95743a24",
   "metadata": {
    "ExecuteTime": {
     "end_time": "2023-03-02T11:41:17.318578Z",
     "start_time": "2023-03-02T11:41:16.184417Z"
    }
   },
   "outputs": [
    {
     "data": {
      "text/plain": [
       "<AxesSubplot:xlabel='Artist', ylabel='Average Average Streams'>"
      ]
     },
     "execution_count": 19,
     "metadata": {},
     "output_type": "execute_result"
    },
    {
     "data": {
      "image/png": "[encoded data removed]",
      "text/plain": [
       "<Figure size 864x432 with 1 Axes>"
      ]
     },
     "metadata": {
      "needs_background": "light"
     },
     "output_type": "display_data"
    }
   ],
   "source": [
    "vis_df.iloc[0:7].plot(\n",
    "    kind=\"bar\",\n",
    "    x=\"Artist\",\n",
    "    y=\"avg(Total)\",\n",
    "    figsize=(12, 6),\n",
    "    ylabel=\"Average Average Streams\",\n",
    ")"
   ]
  },
  {
   "cell_type": "markdown",
   "id": "77519e67",
   "metadata": {},
   "source": [
    "# Saving locally\n",
    "<hr style = \"border:2px solid black\" ></hr>"
   ]
  },
  {
   "cell_type": "markdown",
   "id": "556e7efb",
   "metadata": {},
   "source": [
    "- You can save the results in all of the popular file types, such as CSV, JSON, and Parquet. "
   ]
  },
  {
   "cell_type": "code",
   "execution_count": 20,
   "id": "ec9c84be",
   "metadata": {
    "ExecuteTime": {
     "end_time": "2023-03-02T11:41:17.352196Z",
     "start_time": "2023-03-02T11:41:17.320823Z"
    }
   },
   "outputs": [],
   "source": [
    "final_data = (\n",
    "    df.select([\"Artist\", \"Wks\", \"Total\"])\n",
    "    .groupBy(\"Artist\")\n",
    "    .mean()\n",
    "    .orderBy([\"avg(Total)\"], ascending=[False])\n",
    ")"
   ]
  },
  {
   "cell_type": "code",
   "execution_count": 21,
   "id": "26f2bbbe",
   "metadata": {
    "ExecuteTime": {
     "end_time": "2023-03-02T11:41:18.513678Z",
     "start_time": "2023-03-02T11:41:17.354879Z"
    }
   },
   "outputs": [],
   "source": [
    "# CSV\n",
    "final_data.write.csv(\"./dataset.csv\")\n",
    "\n",
    "# JSON\n",
    "final_data.write.save(\"./dataset.json\", format=\"json\")\n",
    "\n",
    "# Parquet\n",
    "#final_data.write.save(\"./dataset.parquet\", format=\"parquet\")"
   ]
  },
  {
   "cell_type": "markdown",
   "id": "9376f11c",
   "metadata": {
    "ExecuteTime": {
     "end_time": "2023-03-02T11:38:53.642673Z",
     "start_time": "2023-03-02T11:38:53.638452Z"
    }
   },
   "source": [
    "# Pre-processing\n",
    "<hr style = \"border:2px solid black\" ></hr>"
   ]
  },
  {
   "cell_type": "markdown",
   "id": "73070f6e",
   "metadata": {},
   "source": [
    "- Categorical Encoding: converting the categorical columns into integers using StringIndexer.\n",
    "- Assembling Features: assembling important features into one vector column. \n",
    "- Scaling: scaling the data using the StandardScaler scaling function.  "
   ]
  },
  {
   "cell_type": "code",
   "execution_count": 22,
   "id": "a491f11e",
   "metadata": {
    "ExecuteTime": {
     "end_time": "2023-03-02T11:41:19.517668Z",
     "start_time": "2023-03-02T11:41:18.516166Z"
    }
   },
   "outputs": [],
   "source": [
    "# Categorical Encoding\n",
    "indexer = StringIndexer(inputCol=\"Artist\", outputCol=\"Encode_Artist\").fit(\n",
    "    final_data\n",
    ")\n",
    "encoded_df = indexer.transform(final_data)"
   ]
  },
  {
   "cell_type": "code",
   "execution_count": 23,
   "id": "17c36eb2",
   "metadata": {
    "ExecuteTime": {
     "end_time": "2023-03-02T11:41:19.588828Z",
     "start_time": "2023-03-02T11:41:19.519905Z"
    }
   },
   "outputs": [],
   "source": [
    "# Assembling Features\n",
    "assemble = VectorAssembler(\n",
    "    inputCols=[\"Encode_Artist\", \"avg(Wks)\", \"avg(Total)\"],\n",
    "    outputCol=\"features\",\n",
    ")\n",
    "assembled_data = assemble.transform(encoded_df)"
   ]
  },
  {
   "cell_type": "code",
   "execution_count": 25,
   "id": "49c2fffd",
   "metadata": {
    "ExecuteTime": {
     "end_time": "2023-03-02T11:44:01.547958Z",
     "start_time": "2023-03-02T11:44:00.414720Z"
    }
   },
   "outputs": [
    {
     "name": "stdout",
     "output_type": "stream",
     "text": [
      "+------------------+--------+--------------------+-------------+--------------------+--------------------+\n",
      "|            Artist|avg(Wks)|          avg(Total)|Encode_Artist|            features|        standardized|\n",
      "+------------------+--------+--------------------+-------------+--------------------+--------------------+\n",
      "|    Billie Eilish |   253.0|       2.089105993E9|         10.0|[10.0,253.0,2.089...|[0.26958193300859...|\n",
      "|     James Arthur |   289.0|       1.975186494E9|         43.0|[43.0,289.0,1.975...|[1.15920231193696...|\n",
      "|     Harry Styles |    86.0|1.5296280663333333E9|         35.0|[35.0,86.0,1.5296...|[0.94353676553008...|\n",
      "|The Neighbourhood |   155.0|       1.427743967E9|        109.0|[109.0,155.0,1.42...|[2.93844306979369...|\n",
      "|       Elton John |    80.0|       1.378850227E9|         28.0|[28.0,80.0,1.3788...|[0.75482941242406...|\n",
      "+------------------+--------+--------------------+-------------+--------------------+--------------------+\n",
      "only showing top 5 rows\n",
      "\n"
     ]
    }
   ],
   "source": [
    "# Standard Scaling\n",
    "scale = StandardScaler(inputCol=\"features\", outputCol=\"standardized\")\n",
    "data_scale = scale.fit(assembled_data)\n",
    "data_scale_output = data_scale.transform(assembled_data)\n",
    "data_scale_output.show(5)"
   ]
  },
  {
   "cell_type": "markdown",
   "id": "a95e1600",
   "metadata": {},
   "source": [
    "# KMeans Clustering\n",
    "<hr style = \"border:2px solid black\" ></hr>"
   ]
  },
  {
   "cell_type": "code",
   "execution_count": 27,
   "id": "a50856f8",
   "metadata": {
    "ExecuteTime": {
     "end_time": "2023-03-02T11:47:40.507362Z",
     "start_time": "2023-03-02T11:47:38.535890Z"
    }
   },
   "outputs": [],
   "source": [
    "KMeans_algo = KMeans(featuresCol='standardized', k=4)\n",
    "KMeans_fit = KMeans_algo.fit(data_scale_output)\n",
    "preds = KMeans_fit.transform(data_scale_output)"
   ]
  },
  {
   "cell_type": "code",
   "execution_count": 28,
   "id": "8cf739b4",
   "metadata": {
    "ExecuteTime": {
     "end_time": "2023-03-02T11:47:41.532460Z",
     "start_time": "2023-03-02T11:47:41.208712Z"
    },
    "scrolled": true
   },
   "outputs": [
    {
     "name": "stdout",
     "output_type": "stream",
     "text": [
      "+------------------+--------+--------------------+-------------+--------------------+--------------------+----------+\n",
      "|            Artist|avg(Wks)|          avg(Total)|Encode_Artist|            features|        standardized|prediction|\n",
      "+------------------+--------+--------------------+-------------+--------------------+--------------------+----------+\n",
      "|    Billie Eilish |   253.0|       2.089105993E9|         10.0|[10.0,253.0,2.089...|[0.26958193300859...|         1|\n",
      "|     James Arthur |   289.0|       1.975186494E9|         43.0|[43.0,289.0,1.975...|[1.15920231193696...|         1|\n",
      "|     Harry Styles |    86.0|1.5296280663333333E9|         35.0|[35.0,86.0,1.5296...|[0.94353676553008...|         2|\n",
      "|The Neighbourhood |   155.0|       1.427743967E9|        109.0|[109.0,155.0,1.42...|[2.93844306979369...|         2|\n",
      "|       Elton John |    80.0|       1.378850227E9|         28.0|[28.0,80.0,1.3788...|[0.75482941242406...|         2|\n",
      "+------------------+--------+--------------------+-------------+--------------------+--------------------+----------+\n",
      "only showing top 5 rows\n",
      "\n"
     ]
    }
   ],
   "source": [
    "preds.show(5)"
   ]
  },
  {
   "cell_type": "code",
   "execution_count": null,
   "id": "4302109d",
   "metadata": {},
   "outputs": [],
   "source": []
  },
  {
   "cell_type": "code",
   "execution_count": null,
   "id": "e97c736f",
   "metadata": {},
   "outputs": [],
   "source": []
  },
  {
   "cell_type": "markdown",
   "id": "ff82c683",
   "metadata": {
    "ExecuteTime": {
     "end_time": "2023-03-02T11:30:32.811666Z",
     "start_time": "2023-03-02T11:30:32.808084Z"
    }
   },
   "source": [
    "# Clean-up folder\n",
    "<hr style = \"border:2px solid black\" ></hr>"
   ]
  },
  {
   "cell_type": "code",
   "execution_count": null,
   "id": "89713591",
   "metadata": {
    "ExecuteTime": {
     "end_time": "2023-03-02T11:41:19.844027Z",
     "start_time": "2023-03-02T11:41:19.844004Z"
    }
   },
   "outputs": [],
   "source": [
    "# remember these are directories\n",
    "!rm -rf ./dataset.csv ./dataset.json"
   ]
  },
  {
   "cell_type": "markdown",
   "id": "15a18442",
   "metadata": {},
   "source": [
    "# References\n",
    "<hr style = \"border:2px solid black\" ></hr>"
   ]
  },
  {
   "cell_type": "markdown",
   "id": "3f739cab",
   "metadata": {},
   "source": [
    "\n",
    "- [PySpark for Data Science](https://www.kdnuggets.com/2023/02/pyspark-data-science.html)\n",
    "- [Global Spotify Weekly Chart Dataset](https://www.kaggle.com/datasets/kabhishm/global-spotify-weekly-chart)\n",
    "- [Pandas API on Spark](https://spark.apache.org/docs/latest/api/python/reference/pyspark.pandas/index.html)\n",
    "    \n",
""   ]
  },
  {
   "cell_type": "code",
   "execution_count": null,
   "id": "f3890434",
   "metadata": {},
   "outputs": [],
   "source": []
  }
 ],
 "metadata": {
  "kernelspec": {
   "display_name": "Python 3 (ipykernel)",
   "language": "python",
   "name": "python3"
  },
  "language_info": {
   "codemirror_mode": {
    "name": "ipython",
    "version": 3
   },
   "file_extension": ".py",
   "mimetype": "text/x-python",
   "name": "python",
   "nbconvert_exporter": "python",
   "pygments_lexer": "ipython3",
   "version": "3.9.7"
  },
  "toc": {
   "base_numbering": 1,
   "nav_menu": {},
   "number_sections": true,
   "sideBar": true,
   "skip_h1_title": false,
   "title_cell": "Table of Contents",
   "title_sidebar": "Contents",
   "toc_cell": true,
   "toc_position": {
    "height": "calc(100% - 180px)",
    "left": "10px",
    "top": "150px",
    "width": "167.95px"
   },
   "toc_section_display": true,
   "toc_window_display": true
  },
  "varInspector": {
   "cols": {
    "lenName": 16,
    "lenType": 16,
    "lenVar": 40
   },
   "kernels_config": {
    "python": {
     "delete_cmd_postfix": "",
     "delete_cmd_prefix": "del ",
     "library": "var_list.py",
     "varRefreshCmd": "print(var_dic_list())"
    },
    "r": {
     "delete_cmd_postfix": ") ",
     "delete_cmd_prefix": "rm(",
     "library": "var_list.r",
     "varRefreshCmd": "cat(var_dic_list()) "
    }
   },
   "types_to_exclude": [
    "module",
    "function",
    "builtin_function_or_method",
    "instance",
    "_Feature"
   ],
   "window_display": false
  }
 },
 "nbformat": 4,
 "nbformat_minor": 5
}
