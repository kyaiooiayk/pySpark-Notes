{
 "cells": [
  {
   "cell_type": "markdown",
   "metadata": {
    "toc": true
   },
   "source": [
    "<h1>Table of Contents<span class=\"tocSkip\"></span></h1>\n",
""   ]
  },
  {
   "cell_type": "markdown",
   "metadata": {},
   "source": [
    "# Introduction\n",
    "<hr style = \"border:2px solid black\" ></hr>"
   ]
  },
  {
   "cell_type": "markdown",
   "metadata": {},
   "source": [
    "\n",
    "**What?** PCA with PySpark on a local machine\n",
    "\n",
""   ]
  },
  {
   "cell_type": "markdown",
   "metadata": {},
   "source": [
    "# Imports\n",
    "<hr style = \"border:2px solid black\" ></hr>"
   ]
  },
  {
   "cell_type": "code",
   "execution_count": null,
   "metadata": {},
   "outputs": [],
   "source": [
    "import numpy as np\n",
    "import pandas as pd\n",
    "import matplotlib.pyplot as plt\n",
    "from sklearn.datasets import load_iris\n",
    "from pyspark.conf import SparkConf\n",
    "from pyspark.sql import SparkSession \n",
    "from pyspark.ml.feature import VectorAssembler, StandardScaler, PCA"
   ]
  },
  {
   "cell_type": "markdown",
   "metadata": {},
   "source": [
    "# Create a SparkSession class\n",
    "<hr style = \"border:2px solid black\" ></hr>"
   ]
  },
  {
   "cell_type": "markdown",
   "metadata": {},
   "source": [
    "- A `SparkSesstion` is the entry point into all functionality in Spark\n",
    "- The `.master` attribute sets it to run on all cores on local, note that we should leave out the .master part if we're actually running the job on a cluster."
   ]
  },
  {
   "cell_type": "code",
   "execution_count": null,
   "metadata": {},
   "outputs": [],
   "source": [
    "\n",
    "\n",
    "spark = (SparkSession.\n",
    "         builder.\n",
    "         master('local[*]').\n",
    "         appName('PCA').\n",
    "         config(conf = SparkConf()).\n",
    "         getOrCreate())\n"
   ]
  },
  {
   "cell_type": "markdown",
   "metadata": {},
   "source": [
    "# PCA\n",
    "<hr style = \"border:2px solid black\" ></hr>"
   ]
  },
  {
   "cell_type": "markdown",
   "metadata": {},
   "source": [
    "- This is simply an Spark API walkthrough rather a description of PCA really is.\n",
    "- We are going to create a table in pandas and feed this to Spark."
   ]
  },
  {
   "cell_type": "code",
   "execution_count": 3,
   "metadata": {},
   "outputs": [
    {
     "name": "stdout",
     "output_type": "stream",
     "text": [
      "+-----------------+----------------+-----------------+----------------+\n",
      "|sepal length (cm)|sepal width (cm)|petal length (cm)|petal width (cm)|\n",
      "+-----------------+----------------+-----------------+----------------+\n",
      "|              5.1|             3.5|              1.4|             0.2|\n",
      "|              4.9|             3.0|              1.4|             0.2|\n",
      "|              4.7|             3.2|              1.3|             0.2|\n",
      "|              4.6|             3.1|              1.5|             0.2|\n",
      "|              5.0|             3.6|              1.4|             0.2|\n",
      "|              5.4|             3.9|              1.7|             0.4|\n",
      "+-----------------+----------------+-----------------+----------------+\n",
      "only showing top 6 rows\n",
      "\n"
     ]
    }
   ],
   "source": [
    "# load the data and convert it to a pandas DataFrame,\n",
    "# then use that to create the spark DataFrame\n",
    "iris = load_iris()\n",
    "X = iris['data']\n",
    "y = iris['target']\n",
    "\n",
    "data = pd.DataFrame(X, columns = iris.feature_names)\n",
    "dataset = spark.createDataFrame(data, iris.feature_names)\n",
    "dataset.show(6)"
   ]
  },
  {
   "cell_type": "markdown",
   "metadata": {},
   "source": [
    "Next, in order to train ML models in Spark later, we'll use the `VectorAssembler` to combine a given list of columns into a single vector column."
   ]
  },
  {
   "cell_type": "code",
   "execution_count": 4,
   "metadata": {},
   "outputs": [
    {
     "name": "stdout",
     "output_type": "stream",
     "text": [
      "+-----------------+\n",
      "|         features|\n",
      "+-----------------+\n",
      "|[5.1,3.5,1.4,0.2]|\n",
      "|[4.9,3.0,1.4,0.2]|\n",
      "|[4.7,3.2,1.3,0.2]|\n",
      "|[4.6,3.1,1.5,0.2]|\n",
      "|[5.0,3.6,1.4,0.2]|\n",
      "|[5.4,3.9,1.7,0.4]|\n",
      "+-----------------+\n",
      "only showing top 6 rows\n",
      "\n"
     ]
    }
   ],
   "source": [
    "# specify the input columns' name and the combined output column's name\n",
    "assembler = VectorAssembler(\n",
    "    inputCols = iris.feature_names, outputCol = 'features')\n",
    "\n",
    "# use it to transform the dataset and select just the output column\n",
    "df = assembler.transform(dataset).select('features')\n",
    "df.show(6)"
   ]
  },
  {
   "cell_type": "markdown",
   "metadata": {},
   "source": [
    "Next, we standardize the features, notice here we only need to specify the assembled column as the input feature."
   ]
  },
  {
   "cell_type": "code",
   "execution_count": 5,
   "metadata": {},
   "outputs": [
    {
     "name": "stdout",
     "output_type": "stream",
     "text": [
      "+-----------------+--------------------+\n",
      "|         features|      scaledFeatures|\n",
      "+-----------------+--------------------+\n",
      "|[5.1,3.5,1.4,0.2]|[-0.8976738791967...|\n",
      "|[4.9,3.0,1.4,0.2]|[-1.1392004834649...|\n",
      "|[4.7,3.2,1.3,0.2]|[-1.3807270877331...|\n",
      "|[4.6,3.1,1.5,0.2]|[-1.5014903898672...|\n",
      "|[5.0,3.6,1.4,0.2]|[-1.0184371813308...|\n",
      "|[5.4,3.9,1.7,0.4]|[-0.5353839727944...|\n",
      "+-----------------+--------------------+\n",
      "only showing top 6 rows\n",
      "\n"
     ]
    }
   ],
   "source": [
    "scaler = StandardScaler(\n",
    "    inputCol = 'features', \n",
    "    outputCol = 'scaledFeatures',\n",
    "    withMean = True,\n",
    "    withStd = True\n",
    ").fit(df)\n",
    "\n",
    "# when we transform the dataframe, the old feature will still remain in it\n",
    "df_scaled = scaler.transform(df)\n",
    "df_scaled.show(6)"
   ]
  },
  {
   "cell_type": "markdown",
   "metadata": {},
   "source": [
    "After the preprocessing step, we fit the PCA model."
   ]
  },
  {
   "cell_type": "code",
   "execution_count": 6,
   "metadata": {},
   "outputs": [
    {
     "name": "stdout",
     "output_type": "stream",
     "text": [
      "Explained Variance Ratio [ 0.72770452  0.23030523]\n",
      "+-----------------+--------------------+--------------------+\n",
      "|         features|      scaledFeatures|         pcaFeatures|\n",
      "+-----------------+--------------------+--------------------+\n",
      "|[5.1,3.5,1.4,0.2]|[-0.8976738791967...|[2.25698063306802...|\n",
      "|[4.9,3.0,1.4,0.2]|[-1.1392004834649...|[2.07945911889540...|\n",
      "|[4.7,3.2,1.3,0.2]|[-1.3807270877331...|[2.36004408158420...|\n",
      "|[4.6,3.1,1.5,0.2]|[-1.5014903898672...|[2.29650366000388...|\n",
      "|[5.0,3.6,1.4,0.2]|[-1.0184371813308...|[2.38080158645274...|\n",
      "|[5.4,3.9,1.7,0.4]|[-0.5353839727944...|[2.06362347633723...|\n",
      "+-----------------+--------------------+--------------------+\n",
      "only showing top 6 rows\n",
      "\n"
     ]
    }
   ],
   "source": [
    "n_components = 2\n",
    "pca = PCA(\n",
    "    k = n_components, \n",
    "    inputCol = 'scaledFeatures', \n",
    "    outputCol = 'pcaFeatures'\n",
    ").fit(df_scaled)\n",
    "\n",
    "df_pca = pca.transform(df_scaled)\n",
    "print('Explained Variance Ratio', pca.explainedVariance.toArray())\n",
    "df_pca.show(6)"
   ]
  },
  {
   "cell_type": "markdown",
   "metadata": {},
   "source": [
    "Notice that unlike scikit-learn, we use `transform` on the dataframe at hand for all ML models' class after fitting it (calling `.fit` on the dataframe). This will return the result in a new column, where the name is specified by the `outputCol` argument in the ML models' class.\n",
    "\n",
    "We can convert it back to a numpy array by extracting the `pcaFeatures` column from each row, and use `collect` to bring the entire dataset back to a single machine."
   ]
  },
  {
   "cell_type": "code",
   "execution_count": 7,
   "metadata": {
    "collapsed": true
   },
   "outputs": [],
   "source": [
    "# not sure if this is the best way to do it\n",
    "X_pca = df_pca.rdd.map(lambda row: row.pcaFeatures).collect()\n",
    "X_pca = np.array(X_pca)"
   ]
  },
  {
   "cell_type": "code",
   "execution_count": 8,
   "metadata": {
    "collapsed": true
   },
   "outputs": [],
   "source": [
    "# change default style figure and font size\n",
    "plt.style.use('fivethirtyeight')\n",
    "plt.rcParams['figure.figsize'] = 8, 6\n",
    "plt.rcParams['font.size'] = 12\n",
    "\n",
    "\n",
    "def plot_iris_pca(X_pca, y):\n",
    "    \"\"\"a scatter plot of the 2-dimensional iris data\"\"\"\n",
    "    markers = 's', 'x', 'o'\n",
    "    colors = list(plt.rcParams['axes.prop_cycle'])\n",
    "    target = np.unique(y)\n",
    "    for idx, (t, m) in enumerate(zip(target, markers)):\n",
    "        subset = X_pca[y == t]\n",
    "        plt.scatter(subset[:, 0], subset[:, 1], s = 50,\n",
    "                    c = colors[idx]['color'], label = t, marker = m)\n",
    "\n",
    "    plt.xlabel('PC 1')\n",
    "    plt.ylabel('PC 2')\n",
    "    plt.legend(loc = 'lower left')\n",
    "    plt.tight_layout()\n",
    "    plt.show()"
   ]
  },
  {
   "cell_type": "code",
   "execution_count": 9,
   "metadata": {},
   "outputs": [
    {
     "data": {
      "image/png": "[encoded data removed]",
      "text/plain": [
       "<matplotlib.figure.Figure at 0x113efbe10>"
      ]
     },
     "metadata": {
      "image/png": {
       "height": 419,
       "width": 564
      }
     },
     "output_type": "display_data"
    }
   ],
   "source": [
    "plot_iris_pca(X_pca, y)"
   ]
  },
  {
   "cell_type": "code",
   "execution_count": 10,
   "metadata": {
    "collapsed": true
   },
   "outputs": [],
   "source": [
    "# stop the current sparkSession\n",
    "spark.stop()"
   ]
  },
  {
   "cell_type": "markdown",
   "metadata": {},
   "source": [
    "# References\n",
    "<hr style = \"border:2px solid black\" ></hr>"
   ]
  },
  {
   "cell_type": "markdown",
   "metadata": {},
   "source": [
    "- [This code](http://nbviewer.jupyter.org/github/ethen8181/machine-learning/blob/master/big_data/spark_pca.ipynb)\n",
    "- [Tutorial: Introduction to Spark](http://people.duke.edu/~ccc14/sta-663-2016/21A_Introduction_To_Spark.html)\n",
    "- [Spark Documentation: Spark SQL, DataFrames and Datasets Guide](http://spark.apache.org/docs/latest/sql-programming-guide.html)"
   ]
  },
  {
   "cell_type": "code",
   "execution_count": null,
   "metadata": {},
   "outputs": [],
   "source": []
  }
 ],
 "metadata": {
  "anaconda-cloud": {},
  "hide_input": false,
  "kernelspec": {
   "display_name": "Python 3 (ipykernel)",
   "language": "python",
   "name": "python3"
  },
  "language_info": {
   "codemirror_mode": {
    "name": "ipython",
    "version": 3
   },
   "file_extension": ".py",
   "mimetype": "text/x-python",
   "name": "python",
   "nbconvert_exporter": "python",
   "pygments_lexer": "ipython3",
   "version": "3.9.7"
  },
  "toc": {
   "base_numbering": 1,
   "nav_menu": {
    "height": "70px",
    "width": "254px"
   },
   "number_sections": true,
   "sideBar": true,
   "skip_h1_title": false,
   "title_cell": "Table of Contents",
   "title_sidebar": "Contents",
   "toc_cell": true,
   "toc_position": {},
   "toc_section_display": "block",
   "toc_window_display": true
  },
  "varInspector": {
   "cols": {
    "lenName": 16,
    "lenType": 16,
    "lenVar": 40
   },
   "kernels_config": {
    "python": {
     "delete_cmd_postfix": "",
     "delete_cmd_prefix": "del ",
     "library": "var_list.py",
     "varRefreshCmd": "print(var_dic_list())"
    },
    "r": {
     "delete_cmd_postfix": ") ",
     "delete_cmd_prefix": "rm(",
     "library": "var_list.r",
     "varRefreshCmd": "cat(var_dic_list()) "
    }
   },
   "types_to_exclude": [
    "module",
    "function",
    "builtin_function_or_method",
    "instance",
    "_Feature"
   ],
   "window_display": false
  }
 },
 "nbformat": 4,
 "nbformat_minor": 1
}
